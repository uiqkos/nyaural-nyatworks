{
 "cells": [
  {
   "cell_type": "code",
   "execution_count": 40,
   "metadata": {
    "collapsed": true
   },
   "outputs": [],
   "source": [
    "import pandas as pd\n",
    "import seaborn as sns\n",
    "from random import randint"
   ]
  },
  {
   "cell_type": "code",
   "execution_count": 8,
   "outputs": [],
   "source": [
    "data = pd.read_csv('../data/train.csv', header=0, index_col=0)"
   ],
   "metadata": {
    "collapsed": false,
    "pycharm": {
     "name": "#%%\n"
    }
   }
  },
  {
   "cell_type": "code",
   "execution_count": 9,
   "outputs": [],
   "source": [
    "feature_cols = [\n",
    "    'toxic',\n",
    "    'severe_toxic',\n",
    "    'obscene',\n",
    "    'threat',\n",
    "    'insult',\n",
    "    'identity_hate'\n",
    "]"
   ],
   "metadata": {
    "collapsed": false,
    "pycharm": {
     "name": "#%%\n"
    }
   }
  },
  {
   "cell_type": "code",
   "execution_count": 10,
   "outputs": [],
   "source": [
    "y = data[feature_cols]\n",
    "X = data['comment_text']"
   ],
   "metadata": {
    "collapsed": false,
    "pycharm": {
     "name": "#%%\n"
    }
   }
  },
  {
   "cell_type": "code",
   "execution_count": 11,
   "outputs": [
    {
     "data": {
      "text/plain": "id\n0000997932d777bf    Explanation\\nWhy the edits made under my usern...\n000103f0d9cfb60f    D'aww! He matches this background colour I'm s...\n000113f07ec002fd    Hey man, I'm really not trying to edit war. It...\n0001b41b1c6bb37e    \"\\nMore\\nI can't make any real suggestions on ...\n0001d958c54c6e35    You, sir, are my hero. Any chance you remember...\n00025465d4725e87    \"\\n\\nCongratulations from me as well, use the ...\n0002bcb3da6cb337         COCKSUCKER BEFORE YOU PISS AROUND ON MY WORK\n00031b1e95af7921    Your vandalism to the Matt Shirvington article...\n00037261f536c51d    Sorry if the word 'nonsense' was offensive to ...\n00040093b2687caa    alignment on this subject and which are contra...\nName: comment_text, dtype: object"
     },
     "execution_count": 11,
     "metadata": {},
     "output_type": "execute_result"
    }
   ],
   "source": [
    "X.head(10)"
   ],
   "metadata": {
    "collapsed": false,
    "pycharm": {
     "name": "#%%\n"
    }
   }
  },
  {
   "cell_type": "code",
   "execution_count": 12,
   "outputs": [
    {
     "data": {
      "text/plain": "                  toxic  severe_toxic  obscene  threat  insult  identity_hate\nid                                                                           \n0000997932d777bf      0             0        0       0       0              0\n000103f0d9cfb60f      0             0        0       0       0              0\n000113f07ec002fd      0             0        0       0       0              0\n0001b41b1c6bb37e      0             0        0       0       0              0\n0001d958c54c6e35      0             0        0       0       0              0\n00025465d4725e87      0             0        0       0       0              0\n0002bcb3da6cb337      1             1        1       0       1              0\n00031b1e95af7921      0             0        0       0       0              0\n00037261f536c51d      0             0        0       0       0              0\n00040093b2687caa      0             0        0       0       0              0",
      "text/html": "<div>\n<style scoped>\n    .dataframe tbody tr th:only-of-type {\n        vertical-align: middle;\n    }\n\n    .dataframe tbody tr th {\n        vertical-align: top;\n    }\n\n    .dataframe thead th {\n        text-align: right;\n    }\n</style>\n<table border=\"1\" class=\"dataframe\">\n  <thead>\n    <tr style=\"text-align: right;\">\n      <th></th>\n      <th>toxic</th>\n      <th>severe_toxic</th>\n      <th>obscene</th>\n      <th>threat</th>\n      <th>insult</th>\n      <th>identity_hate</th>\n    </tr>\n    <tr>\n      <th>id</th>\n      <th></th>\n      <th></th>\n      <th></th>\n      <th></th>\n      <th></th>\n      <th></th>\n    </tr>\n  </thead>\n  <tbody>\n    <tr>\n      <th>0000997932d777bf</th>\n      <td>0</td>\n      <td>0</td>\n      <td>0</td>\n      <td>0</td>\n      <td>0</td>\n      <td>0</td>\n    </tr>\n    <tr>\n      <th>000103f0d9cfb60f</th>\n      <td>0</td>\n      <td>0</td>\n      <td>0</td>\n      <td>0</td>\n      <td>0</td>\n      <td>0</td>\n    </tr>\n    <tr>\n      <th>000113f07ec002fd</th>\n      <td>0</td>\n      <td>0</td>\n      <td>0</td>\n      <td>0</td>\n      <td>0</td>\n      <td>0</td>\n    </tr>\n    <tr>\n      <th>0001b41b1c6bb37e</th>\n      <td>0</td>\n      <td>0</td>\n      <td>0</td>\n      <td>0</td>\n      <td>0</td>\n      <td>0</td>\n    </tr>\n    <tr>\n      <th>0001d958c54c6e35</th>\n      <td>0</td>\n      <td>0</td>\n      <td>0</td>\n      <td>0</td>\n      <td>0</td>\n      <td>0</td>\n    </tr>\n    <tr>\n      <th>00025465d4725e87</th>\n      <td>0</td>\n      <td>0</td>\n      <td>0</td>\n      <td>0</td>\n      <td>0</td>\n      <td>0</td>\n    </tr>\n    <tr>\n      <th>0002bcb3da6cb337</th>\n      <td>1</td>\n      <td>1</td>\n      <td>1</td>\n      <td>0</td>\n      <td>1</td>\n      <td>0</td>\n    </tr>\n    <tr>\n      <th>00031b1e95af7921</th>\n      <td>0</td>\n      <td>0</td>\n      <td>0</td>\n      <td>0</td>\n      <td>0</td>\n      <td>0</td>\n    </tr>\n    <tr>\n      <th>00037261f536c51d</th>\n      <td>0</td>\n      <td>0</td>\n      <td>0</td>\n      <td>0</td>\n      <td>0</td>\n      <td>0</td>\n    </tr>\n    <tr>\n      <th>00040093b2687caa</th>\n      <td>0</td>\n      <td>0</td>\n      <td>0</td>\n      <td>0</td>\n      <td>0</td>\n      <td>0</td>\n    </tr>\n  </tbody>\n</table>\n</div>"
     },
     "execution_count": 12,
     "metadata": {},
     "output_type": "execute_result"
    }
   ],
   "source": [
    "y.head(10)"
   ],
   "metadata": {
    "collapsed": false,
    "pycharm": {
     "name": "#%%\n"
    }
   }
  },
  {
   "cell_type": "code",
   "execution_count": 13,
   "outputs": [
    {
     "data": {
      "text/plain": "toxic  severe_toxic  obscene  threat  insult  identity_hate\n0      0             0        0       0       0                143346\n1      0             0        0       0       0                  5666\n                     1        0       1       0                  3800\n                                      0       0                  1758\n                     0        0       1       0                  1215\n       1             1        0       1       0                   989\n       0             1        0       1       1                   618\n0      0             1        0       0       0                   317\n                     0        0       1       0                   301\n1      1             1        0       1       1                   265\n0      0             1        0       1       0                   181\n1      1             1        0       0       0                   158\n       0             0        0       0       1                   136\n                                      1       1                   134\n                     1        1       1       0                   131\n                     0        1       0       0                   113\n       1             1        1       1       0                    64\n       0             1        1       1       1                    56\n0      0             0        0       0       1                    54\n1      1             0        0       0       0                    41\n       0             1        0       0       1                    35\n       1             1        1       1       1                    31\n0      0             0        0       1       1                    28\n                              1       0       0                    22\n                     1        0       1       1                    18\n1      0             0        1       1       0                    16\n       1             0        0       1       0                    14\n                              1       0       0                    11\n       0             1        1       0       0                    11\n                     0        1       0       1                     7\n       1             0        0       1       1                     7\n                     1        0       0       1                     6\n                              1       0       0                     4\n                     0        0       0       1                     3\n       0             0        1       1       1                     3\n0      0             1        0       0       1                     3\n                     0        1       1       0                     3\n                     1        1       1       0                     2\n                                      0       0                     2\n1      1             0        1       0       1                     1\n                                      1       0                     1\ndtype: int64"
     },
     "execution_count": 13,
     "metadata": {},
     "output_type": "execute_result"
    }
   ],
   "source": [
    "y.value_counts()"
   ],
   "metadata": {
    "collapsed": false,
    "pycharm": {
     "name": "#%%\n"
    }
   }
  },
  {
   "cell_type": "code",
   "execution_count": 19,
   "outputs": [
    {
     "name": "stdout",
     "output_type": "stream",
     "text": [
      "Количество негативных комментариев:  16225 (0.102)\n"
     ]
    }
   ],
   "source": [
    "negative = len(y[y.sum(axis=1) > 0])\n",
    "print('Количество негативных комментариев: ', negative, f'({negative / len(y):0.3f})')"
   ],
   "metadata": {
    "collapsed": false,
    "pycharm": {
     "name": "#%%\n"
    }
   }
  },
  {
   "cell_type": "code",
   "execution_count": 20,
   "outputs": [
    {
     "name": "stdout",
     "output_type": "stream",
     "text": [
      "Количество нейтральных/позитивных комментариев:  143346 (0.898)\n"
     ]
    }
   ],
   "source": [
    "neutral_or_positive = len(y[y.sum(axis=1) == 0])\n",
    "print('Количество нейтральных/позитивных комментариев: ', neutral_or_positive, f'({neutral_or_positive / len(y):0.3f})')"
   ],
   "metadata": {
    "collapsed": false,
    "pycharm": {
     "name": "#%%\n"
    }
   }
  },
  {
   "cell_type": "code",
   "execution_count": 38,
   "outputs": [
    {
     "data": {
      "text/plain": "<AxesSubplot:xlabel='columns', ylabel='count'>"
     },
     "execution_count": 38,
     "metadata": {},
     "output_type": "execute_result"
    },
    {
     "data": {
      "text/plain": "<Figure size 432x288 with 1 Axes>",
      "image/png": "[encoded data removed]"
     },
     "metadata": {
      "needs_background": "light"
     },
     "output_type": "display_data"
    }
   ],
   "source": [
    "sns.barplot(\n",
    "    x='columns',\n",
    "    y='count',\n",
    "    data=pd.DataFrame({\n",
    "        'columns': feature_cols,\n",
    "        'count': [len(y[y[col] == 1]) for col in feature_cols]\n",
    "    })\n",
    ")"
   ],
   "metadata": {
    "collapsed": false,
    "pycharm": {
     "name": "#%%\n"
    }
   }
  },
  {
   "cell_type": "code",
   "execution_count": 39,
   "outputs": [
    {
     "data": {
      "text/plain": "<AxesSubplot:xlabel='columns', ylabel='count'>"
     },
     "execution_count": 39,
     "metadata": {},
     "output_type": "execute_result"
    },
    {
     "data": {
      "text/plain": "<Figure size 432x288 with 1 Axes>",
      "image/png": "[encoded data removed]"
     },
     "metadata": {
      "needs_background": "light"
     },
     "output_type": "display_data"
    }
   ],
   "source": [
    "sns.barplot(\n",
    "    x='columns',\n",
    "    y='count',\n",
    "    data=pd.DataFrame({\n",
    "        'columns': feature_cols + ['clear'],\n",
    "        'count': [len(y[y[col] == 1]) for col in feature_cols] + [neutral_or_positive]\n",
    "    })\n",
    ")"
   ],
   "metadata": {
    "collapsed": false,
    "pycharm": {
     "name": "#%%\n"
    }
   }
  },
  {
   "cell_type": "code",
   "execution_count": 48,
   "outputs": [
    {
     "name": "stdout",
     "output_type": "stream",
     "text": [
      "----------------------------\n",
      "Polar Air \n",
      "\n",
      "Polar Air no longer have a hangar at Prestwick airport.\n",
      "It was taken over in some way by Atlas Air who then closed the hangar. I don't know details which is why I'm not editing it myself.\n",
      "toxic            0\n",
      "severe_toxic     0\n",
      "obscene          0\n",
      "threat           0\n",
      "insult           0\n",
      "identity_hate    0\n",
      "Name: de45c85706947783, dtype: object\n",
      "----------------------------\n",
      "The article should be unprotected on 25 October . After the article published on Le Monde newspaper , it's been recalled on the French talk page that hiding specific dimensions of a topic is considered WP:POV . The current montage doesn't even show the actual city, only a collection of lifeless landmarks close-ups. For the matter, this has raised enough concerns in France for the story to be also mentioned on a major radio, Europe 1 . This is why, I believe the better way to calm things out is to go for the conservative option which is to use the same image in the English version than the one used in the French version. An image which is a good consensus as it does show the Eiffel Tower, the undisputed symbol of the city, but also its urban surrounding landscape and its full dimension as a metropolis. That's the only way in my humble opinion to reach WP:NPOV in this case.\n",
      "toxic            0\n",
      "severe_toxic     0\n",
      "obscene          0\n",
      "threat           0\n",
      "insult           0\n",
      "identity_hate    0\n",
      "Name: 7cba4c73c95aa8ce, dtype: object\n",
      "----------------------------\n",
      "\"\n",
      "Thank you for reverting my edit without posting here or providing an edit summary. You asked for refs and I provided them. The three sources on fin, sei, and Bryde's whales provide ages at physical maturity, thus providing a citation for the \"\"20-30 years\"\" reference. I've moved the other refs accordingly.   \"\n",
      "toxic            0\n",
      "severe_toxic     0\n",
      "obscene          0\n",
      "threat           0\n",
      "insult           0\n",
      "identity_hate    0\n",
      "Name: 61d499d61a15fdd6, dtype: object\n",
      "----------------------------\n",
      "\"\n",
      "  The RickK Anti-Vandalism Barnstar Keep up the good work   \"\n",
      "toxic            0\n",
      "severe_toxic     0\n",
      "obscene          0\n",
      "threat           0\n",
      "insult           0\n",
      "identity_hate    0\n",
      "Name: c5f2771c8d3ef591, dtype: object\n",
      "----------------------------\n",
      "Bronx Hub \n",
      "\n",
      "Hi, Bellagio, and happy new year! This section of The Bronx#Shopping districts is just a copy and paste from the stub article The Hub, Bronx, as one can see from the glaringly-obvious dead footnotes. If you look at the poster's contribution history, he seems to have a few newcomer's problems that have caused most of his edits to the latter article to be reverted. However, he claims to be a local kid who made a documentary about the Bronx, which is in fact the kind of editor we non-resident old-timers ought to encourage, once he's understood about WP:Conflict of interest, WP:Original research, WP:Verifiability, copy-and-paste, and similar policies that are little-understood by new editors. I certainly don't want to drive away fresh blood by slipping into WP:Ownership. (You're already on my watchlist, so I'll see any comments you make here.)\n",
      "toxic            0\n",
      "severe_toxic     0\n",
      "obscene          0\n",
      "threat           0\n",
      "insult           0\n",
      "identity_hate    0\n",
      "Name: a7778c79cdfd05c7, dtype: object\n",
      "----------------------------\n",
      "\"\n",
      "I still concur with Bilcat.  I think there are fundemental differences between the terms \"\"Military occupation\"\" and \"\"Occupied Territories\"\" that justify seperate articles.  For instance, thinking of Irag and/or Afghanistan; They are under \"\"military occupation\"\", but couldn't really accurately be called \"\"occupied territories\"\".  If you think a distinction like this one is valid, than it follows that there should be seperate articles.   \"\n",
      "toxic            0\n",
      "severe_toxic     0\n",
      "obscene          0\n",
      "threat           0\n",
      "insult           0\n",
      "identity_hate    0\n",
      "Name: 9fb162b6dd303f74, dtype: object\n",
      "----------------------------\n",
      "No matter, I'm a mega-polyglot. I hatched out a plea on the Italian Wikipedia for anyone to give evidence showing that Charun chops people with his hammer. If anyone has anything to back up your silly claims, the fact that we are turning up nothing despite banding Wikipedias together in three different languages should give you a major clue that you're barking up a bad tree, Scott. The fact that a dumb idea has been senselessly propogated into the public stream of consciousness doesn't mean that the idea is true or verified.\n",
      "toxic            0\n",
      "severe_toxic     0\n",
      "obscene          0\n",
      "threat           0\n",
      "insult           0\n",
      "identity_hate    0\n",
      "Name: d0b1f96f9a97facb, dtype: object\n",
      "----------------------------\n",
      "Now we got two losers who think they run the show. Well F@CK YOU adrian and F@UCK YOU Heracles you clown.\n",
      "toxic            1\n",
      "severe_toxic     0\n",
      "obscene          1\n",
      "threat           0\n",
      "insult           1\n",
      "identity_hate    0\n",
      "Name: b3e5dd84bcffa672, dtype: object\n",
      "----------------------------\n",
      "A tag has been placed on Thomas Ramirez, requesting that it be speedily deleted from Wikipedia. This has been done because the article seems to be about a person, group of people, band, club, company, or web content, but it does not indicate how or why the subject is notable, that is, why an article about that subject should be included in Wikipedia. Under the criteria for speedy deletion, articles that do not assert notability may be deleted at any time. Please see the guidelines for what is generally accepted as notable, and if you can indicate why the subject of this article is notable, you may contest the tagging. To do this, add  on the top of the page (below the existing db tag) and leave a note on the article's talk page explaining your position. Please do not remove the speedy deletion tag yourself, but don't hesitate to add information to the article that would confirm its subject's notability under the guidelines.\n",
      "\n",
      "For guidelines on specific types of articles, you may want to check out our criteria for biographies, for web sites, for bands, or for companies. Feel free to leave a note on my talk page if you have any questions about this.\n",
      "toxic            0\n",
      "severe_toxic     0\n",
      "obscene          0\n",
      "threat           0\n",
      "insult           0\n",
      "identity_hate    0\n",
      "Name: 296e0463390a5c4a, dtype: object\n",
      "----------------------------\n",
      "\"\n",
      "If you look at which one of us is writing what, you'd see which one of us is truly \"\"warring.\"\" For that matter, look at his talk page.  \"\n",
      "toxic            0\n",
      "severe_toxic     0\n",
      "obscene          0\n",
      "threat           0\n",
      "insult           0\n",
      "identity_hate    0\n",
      "Name: 64ef90b4d5cbf759, dtype: object\n"
     ]
    }
   ],
   "source": [
    "for _ in range(10):\n",
    "    comment = data.iloc[randint(0, len(X) - 1)]\n",
    "    print(\"----------------------------\")\n",
    "    print(comment.comment_text)\n",
    "    print(f\"{comment[feature_cols]}\")"
   ],
   "metadata": {
    "collapsed": false,
    "pycharm": {
     "name": "#%%\n"
    }
   }
  },
  {
   "cell_type": "code",
   "execution_count": null,
   "outputs": [],
   "source": [],
   "metadata": {
    "collapsed": false,
    "pycharm": {
     "name": "#%%\n"
    }
   }
  }
 ],
 "metadata": {
  "kernelspec": {
   "display_name": "Python 3",
   "language": "python",
   "name": "python3"
  },
  "language_info": {
   "codemirror_mode": {
    "name": "ipython",
    "version": 2
   },
   "file_extension": ".py",
   "mimetype": "text/x-python",
   "name": "python",
   "nbconvert_exporter": "python",
   "pygments_lexer": "ipython2",
   "version": "2.7.6"
  }
 },
 "nbformat": 4,
 "nbformat_minor": 0
}