{
 "cells": [
  {
   "cell_type": "code",
   "execution_count": 2,
   "metadata": {
    "collapsed": true
   },
   "outputs": [],
   "source": [
    "import gensim as gensim\n",
    "import numpy as np\n",
    "import torch\n",
    "\n",
    "from nya_ml_research.config import DATA_PATH, MODELS_PATH\n",
    "from nya_ml import embeddings"
   ]
  },
  {
   "cell_type": "code",
   "execution_count": 3,
   "outputs": [],
   "source": [
    "%load_ext autoreload\n",
    "%autoreload 2"
   ],
   "metadata": {
    "collapsed": false,
    "pycharm": {
     "name": "#%%\n"
    }
   }
  },
  {
   "cell_type": "code",
   "execution_count": 3,
   "outputs": [],
   "source": [],
   "metadata": {
    "collapsed": false,
    "pycharm": {
     "name": "#%%\n"
    }
   }
  },
  {
   "cell_type": "code",
   "execution_count": 4,
   "outputs": [
    {
     "data": {
      "text/plain": "<nya_ml.embeddings.embedding.Embedding at 0x2586b1bb7f0>"
     },
     "execution_count": 4,
     "metadata": {},
     "output_type": "execute_result"
    }
   ],
   "source": [
    "embedding = embeddings.get('ruwiki').load(MODELS_PATH / 'embeddings')\n",
    "\n",
    "embedding"
   ],
   "metadata": {
    "collapsed": false,
    "pycharm": {
     "name": "#%%\n"
    }
   }
  },
  {
   "cell_type": "code",
   "execution_count": 5,
   "outputs": [],
   "source": [
    "g: gensim.models.KeyedVectors = embedding.to_gensim()"
   ],
   "metadata": {
    "collapsed": false,
    "pycharm": {
     "name": "#%%\n"
    }
   }
  },
  {
   "cell_type": "code",
   "execution_count": 6,
   "outputs": [
    {
     "data": {
      "text/plain": "{'xxxxxxxx_NUM': 0,\n 'год_NOUN': 1,\n 'xxxxxx_NUM': 2,\n 'xxxxxxx_NUM': 3,\n 'первый_ADJ': 4,\n 'время_NOUN': 5,\n 'человек_NOUN': 6,\n 'introduction_PROPN': 7,\n 'один_NUM': 8,\n 'район_NOUN': 9,\n 'мочь_VERB': 10,\n 'стать_VERB': 11,\n 'так_ADV': 12,\n 'город_NOUN': 13,\n 'другой_ADJ': 14,\n 'область_NOUN': 15,\n 'быть_VERB': 16,\n 'новый_ADJ': 17,\n 'два_NUM': 18,\n 'перенаправление_NOUN': 19,\n 'состав_NOUN': 20,\n 'часть_NOUN': 21,\n 'россия_PROPN': 22,\n 'место_NOUN': 23,\n 'также_ADV': 24,\n 'являться_VERB': 25,\n 'где_ADV': 26,\n 'иметь_VERB': 27,\n 'работа_NOUN': 28,\n 'война_NOUN': 29,\n 'самый_ADJ': 30,\n 'уже_ADV': 31,\n 'получить_VERB': 32,\n 'второй_ADJ': 33,\n 'день_NOUN': 34,\n 'век_NOUN': 35,\n 'еще_ADV': 36,\n 'российский_ADJ': 37,\n 'группа_NOUN': 38,\n 'жизнь_NOUN': 39,\n 'имя_NOUN': 40,\n 'мир_NOUN': 41,\n 'игра_NOUN': 42,\n 'река_NOUN': 43,\n 'более_ADV': 44,\n 'сказать_VERB': 45,\n 'русский_ADJ': 46,\n 'говорить_VERB': 47,\n 'находиться_VERB': 48,\n 'советский_ADJ': 49,\n 'государственный_ADJ': 50,\n 'дело_NOUN': 51,\n 'сам_ADJ': 52,\n 'большой_ADJ': 53,\n 'фильм_NOUN': 54,\n 'делать_VERB': 55,\n 'вид_NOUN': 56,\n 'километр_NOUN': 57,\n 'сша_PROPN': 58,\n 'население_NOUN': 59,\n 'работать_VERB': 60,\n 'известный_ADJ': 61,\n 'деревня_NOUN': 62,\n 'однако_ADV': 63,\n 'главный_ADJ': 64,\n 'несколько_NUM': 65,\n 'язык_NOUN': 66,\n 'история_NOUN': 67,\n 'ссср_PROPN': 68,\n 'москва_PROPN': 69,\n 'центр_NOUN': 70,\n 'число_NOUN': 71,\n 'страна_NOUN': 72,\n 'род_NOUN': 73,\n 'начало_NOUN': 74,\n 'конец_NOUN': 75,\n 'метр_NOUN': 76,\n 'три_NUM': 77,\n 'использовать_VERB': 78,\n 'дом_NOUN': 79,\n 'январь_NOUN': 80,\n 'название_NOUN': 81,\n 'раз_NOUN': 82,\n 'команда_NOUN': 83,\n 'последний_ADJ': 84,\n 'военный_ADJ': 85,\n 'смотреть_VERB': 86,\n 'слово_NOUN': 87,\n 'сторона_NOUN': 88,\n 'писать_VERB': 89,\n 'система_NOUN': 90,\n 'сентябрь_NOUN': 91,\n 'октябрь_NOUN': 92,\n 'составлять_VERB': 93,\n 'июль_NOUN': 94,\n 'май_NOUN': 95,\n 'школа_NOUN': 96,\n 'август_NOUN': 97,\n 'член_NOUN': 98,\n 'декабрь_NOUN': 99,\n 'знать_VERB': 100,\n 'очень_ADV': 101,\n 'of_X': 102,\n 'март_NOUN': 103,\n 'должен_ADJ': 104,\n 'национальный_ADJ': 105,\n 'the_X': 106,\n 'округ_NOUN': 107,\n 'июнь_NOUN': 108,\n 'великий_ADJ': 109,\n 'университет_NOUN': 110,\n 'входить_VERB': 111,\n 'апрель_NOUN': 112,\n 'улица_NOUN': 113,\n 'сила_NOUN': 114,\n 'результат_NOUN': 115,\n 'игрок_NOUN': 116,\n 'ноябрь_NOUN': 117,\n 'армия_NOUN': 118,\n 'как_ADV': 119,\n 'рука_NOUN': 120,\n 'много_NUM': 121,\n 'видеть_VERB': 122,\n 'пункт_NOUN': 123,\n 'лучший_ADJ': 124,\n 'территория_NOUN': 125,\n 'основной_ADJ': 126,\n 'село_NOUN': 127,\n 'чемпионат_NOUN': 128,\n 'книга_NOUN': 129,\n 'можно_ADV': 130,\n 'начать_VERB': 131,\n 'февраль_NOUN': 132,\n 'сельский_ADJ': 133,\n 'клуб_NOUN': 134,\n 'общий_ADJ': 135,\n 'сайт_NOUN': 136,\n 'принять_VERB': 137,\n 'матч_NOUN': 138,\n 'затем_ADV': 139,\n 'сын_NOUN': 140,\n 'данные_NOUN': 141,\n 'выйти_VERB': 142,\n 'участие_NOUN': 143,\n 'женщина_NOUN': 144,\n 'роль_NOUN': 145,\n 'друг_NOUN': 146,\n 'московский_ADJ': 147,\n 'наука_NOUN': 148,\n 'рождаться_VERB': 149,\n 'вместе_ADV': 150,\n 'международный_ADJ': 151,\n 'там_ADV': 152,\n 'жить_VERB': 153,\n 'сезон_NOUN': 154,\n 'считать_VERB': 155,\n 'лицо_NOUN': 156,\n 'компания_NOUN': 157,\n 'случай_NOUN': 158,\n 'песня_NOUN': 159,\n 'церковь_NOUN': 160,\n 'образ_NOUN': 161,\n 'ребенок_NOUN': 162,\n 'красный_ADJ': 163,\n 'семья_NOUN': 164,\n 'образование_NOUN': 165,\n 'качество_NOUN': 166,\n 'право_NOUN': 167,\n 'создать_VERB': 168,\n 'период_NOUN': 169,\n 'здесь_ADV': 170,\n 'отец_NOUN': 171,\n 'отношение_NOUN': 172,\n 'идти_VERB': 173,\n 'вопрос_NOUN': 174,\n 'партия_NOUN': 175,\n 'американский_ADJ': 176,\n 'земля_NOUN': 177,\n 'альбом_NOUN': 178,\n 'поселение_NOUN': 179,\n 'тысяча_NOUN': 180,\n 'брать_VERB': 181,\n 'городской_ADJ': 182,\n 'связь_NOUN': 183,\n 'следующий_ADJ': 184,\n 'the_PROPN': 185,\n 'тогда_ADV': 186,\n 'развитие_NOUN': 187,\n 'войска_NOUN': 188,\n 'дорога_NOUN': 189,\n 'научный_ADJ': 190,\n 'украина_PROPN': 191,\n 'средний_ADJ': 192,\n 'высокий_ADJ': 193,\n 'участник_NOUN': 194,\n 'сборная_NOUN': 195,\n 'проект_NOUN': 196,\n 'власть_NOUN': 197,\n 'крупный_ADJ': 198,\n 'теперь_ADV': 199,\n 'институт_NOUN': 200,\n 'хотеть_VERB': 201,\n 'автор_NOUN': 202,\n 'голова_NOUN': 203,\n 'расположенный_ADJ': 204,\n 'официальный_ADJ': 205,\n 'вода_NOUN': 206,\n 'организация_NOUN': 207,\n 'ii_NUM': 208,\n 'глаз_NOUN': 209,\n 'деятельность_NOUN': 210,\n 'нет_VERB': 211,\n 'степень_NOUN': 212,\n 'театр_NOUN': 213,\n 'современный_ADJ': 214,\n 'решение_NOUN': 215,\n 'политический_ADJ': 216,\n 'форма_NOUN': 217,\n 'орден_NOUN': 218,\n 'bar_X': 219,\n 'час_NOUN': 220,\n 'строить_VERB': 221,\n 'олимпийский_ADJ': 222,\n 'действие_NOUN': 223,\n 'станция_NOUN': 224,\n 'общество_NOUN': 225,\n 'выступать_VERB': 226,\n 'франция_PROPN': 227,\n 'искусство_NOUN': 228,\n 'премия_NOUN': 229,\n 'народный_ADJ': 230,\n 'играть_VERB': 231,\n 'третий_ADJ': 232,\n 'уровень_NOUN': 233,\n 'дать_VERB': 234,\n 'ряд_NOUN': 235,\n 'площадь_NOUN': 236,\n 'смерть_NOUN': 237,\n 'культура_NOUN': 238,\n 'остров_NOUN': 239,\n 'немецкий_ADJ': 240,\n 'помощь_NOUN': 241,\n 'европа_PROPN': 242,\n 'управление_NOUN': 243,\n 'здание_NOUN': 244,\n 'статья_NOUN': 245,\n 'полк_NOUN': 246,\n 'старый_ADJ': 247,\n 'совет_NOUN': 248,\n 'список_NOUN': 249,\n 'художник_NOUN': 250,\n 'существовать_VERB': 251,\n 'xxxxxxxxx_NUM': 252,\n 'количество_NOUN': 253,\n 'настоящий_ADJ': 254,\n 'движение_NOUN': 255,\n 'дивизия_NOUN': 256,\n 'служба_NOUN': 257,\n 'путь_NOUN': 258,\n 'потом_ADV': 259,\n 'германия_PROPN': 260,\n 'состоять_VERB': 261,\n 'участвовать_VERB': 262,\n 'завод_NOUN': 263,\n 'часто_ADV': 264,\n 'различный_ADJ': 265,\n 'народ_NOUN': 266,\n 'брат_NOUN': 267,\n 'провести_VERB': 268,\n 'мировой_ADJ': 269,\n 'умереть_VERB': 270,\n 'стоять_VERB': 271,\n 'берег_NOUN': 272,\n 'тип_NOUN': 273,\n 'бой_NOUN': 274,\n 'король_NOUN': 275,\n 'пройти_VERB': 276,\n 'житель_NOUN': 277,\n 'французский_ADJ': 278,\n 'жена_NOUN': 279,\n 'например_ADV': 280,\n 'остаться_VERB': 281,\n 'белый_ADJ': 282,\n 'местный_ADJ': 283,\n 'проходить_VERB': 284,\n 'полный_ADJ': 285,\n 'серия_NOUN': 286,\n 'поздно_ADV': 287,\n 'цель_NOUN': 288,\n 'потому_ADV': 289,\n 'течение_NOUN': 290,\n 'центральный_ADJ': 291,\n 'программа_NOUN': 292,\n 'государство_NOUN': 293,\n 'почти_ADV': 294,\n 'молодой_ADJ': 295,\n 'отечественный_ADJ': 296,\n 'населённый_ADJ': 297,\n 'значение_NOUN': 298,\n 'основать_VERB': 299,\n 'хороший_ADJ': 300,\n 'князь_NOUN': 301,\n 'and_X': 302,\n 'называть_VERB': 303,\n 'занять_VERB': 304,\n 'турнир_NOUN': 305,\n 'вернуться_VERB': 306,\n 'состояние_NOUN': 307,\n 'бывший_ADJ': 308,\n 'принимать_VERB': 309,\n 'высший_ADJ': 310,\n 'журнал_NOUN': 311,\n 'разный_ADJ': 312,\n 'линия_NOUN': 313,\n 'представлять_VERB': 314,\n 'установить_VERB': 315,\n 'четыре_NUM': 316,\n 'карьера_NOUN': 317,\n 'старший_ADJ': 318,\n 'правительство_NOUN': 319,\n 'исследование_NOUN': 320,\n 'исторический_ADJ': 321,\n 'святой_ADJ': 322,\n 'край_NOUN': 323,\n 'президент_NOUN': 324,\n 'создание_NOUN': 325,\n 'производство_NOUN': 326,\n 'момент_NOUN': 327,\n 'найти_VERB': 328,\n 'республика_PROPN': 329,\n 'назвать_VERB': 330,\n 'много_ADV': 331,\n 'вести_VERB': 332,\n 'занимать_VERB': 333,\n 'административный_ADJ': 334,\n 'писатель_NOUN': 335,\n 'появиться_VERB': 336,\n 'месяц_NOUN': 337,\n '2-й_ADJ': 338,\n 'мужчина_NOUN': 339,\n 'миллион_NOUN': 340,\n 'оказаться_VERB': 341,\n 'глава_NOUN': 342,\n 'назначить_VERB': 343,\n 'процесс_NOUN': 344,\n 'возможность_NOUN': 345,\n 'ход_NOUN': 346,\n 'казаться_VERB': 347,\n 'должность_NOUN': 348,\n 'войти_VERB': 349,\n 'фронт_NOUN': 350,\n 'море_NOUN': 351,\n 'медаль_NOUN': 352,\n 'начальник_NOUN': 353,\n 'заниматься_VERB': 354,\n 'тут_ADV': 355,\n 'минута_NOUN': 356,\n 'союз_PROPN': 357,\n 'решить_VERB': 358,\n 'класс_NOUN': 359,\n 'давать_VERB': 360,\n 'думать_VERB': 361,\n 'собственный_ADJ': 362,\n 'служить_VERB': 363,\n 'представитель_NOUN': 364,\n 'нужный_ADJ': 365,\n 'связать_VERB': 366,\n 'окончить_VERB': 367,\n 'мать_NOUN': 368,\n 'английский_ADJ': 369,\n 'проводить_VERB': 370,\n 'надо_ADV': 371,\n 'сейчас_ADV': 372,\n 'суд_NOUN': 373,\n 'музыкальный_ADJ': 374,\n 'положение_NOUN': 375,\n 'директор_NOUN': 376,\n 'основа_NOUN': 377,\n 'профессор_NOUN': 378,\n 'дочь_NOUN': 379,\n 'условие_NOUN': 380,\n 'фк_PROPN': 381,\n 'корпус_NOUN': 382,\n 'всегда_ADV': 383,\n 'музей_NOUN': 384,\n 'общественный_ADJ': 385,\n 'важный_ADJ': 386,\n 'действовать_VERB': 387,\n 'впервые_ADV': 388,\n 'начинать_VERB': 389,\n 'прийти_VERB': 390,\n 'отдельный_ADJ': 391,\n 'председатель_NOUN': 392,\n 'версия_NOUN': 393,\n 'командир_NOUN': 394,\n 'text_X': 395,\n 'штат_NOUN': 396,\n 'двор_NOUN': 397,\n 'проблема_NOUN': 398,\n 'происходить_VERB': 399,\n 'труд_NOUN': 400,\n 'оба_NUM': 401,\n 'относиться_VERB': 402,\n 'оставаться_VERB': 403,\n 'выпустить_VERB': 404,\n 'de_X': 405,\n 'from_X': 406,\n 'представить_VERB': 407,\n 'граница_NOUN': 408,\n 'высота_NOUN': 409,\n 'тело_NOUN': 410,\n 'чемпион_NOUN': 411,\n 'империя_NOUN': 412,\n 'храм_NOUN': 413,\n 'строительство_NOUN': 414,\n 'федерация_PROPN': 415,\n '1-й_ADJ': 416,\n 'боевой_ADJ': 417,\n 'победа_NOUN': 418,\n 'закон_NOUN': 419,\n 'корабль_NOUN': 420,\n 'объект_NOUN': 421,\n 'восточный_ADJ': 422,\n 'музыка_NOUN': 423,\n 'золотой_ADJ': 424,\n 'небольшой_ADJ': 425,\n 'голос_NOUN': 426,\n 'длина_NOUN': 427,\n 'следовать_VERB': 428,\n 'борьба_NOUN': 429,\n 'граф_NOUN': 430,\n 'уезд_NOUN': 431,\n 'звание_NOUN': 432,\n 'in_X': 433,\n 'академия_NOUN': 434,\n 'верховный_ADJ': 435,\n 'начаться_VERB': 436,\n 'открыть_VERB': 437,\n 'внутренний_ADJ': 438,\n 'деятель_NOUN': 439,\n 'пять_NUM': 440,\n 'поэтому_ADV': 441,\n 'материал_NOUN': 442,\n 'генерал_NOUN': 443,\n 'ночь_NOUN': 444,\n 'пойти_VERB': 445,\n 'газета_NOUN': 446,\n 'данный_ADJ': 447,\n 'возраст_NOUN': 448,\n 'ставить_VERB': 449,\n 'произведение_NOUN': 450,\n 'министр_NOUN': 451,\n 'муниципальный_ADJ': 452,\n 'наиболее_ADV': 453,\n 'план_NOUN': 454,\n 'состояться_VERB': 455,\n 'операция_NOUN': 456,\n 'менее_ADV': 457,\n 'причина_NOUN': 458,\n 'машина_NOUN': 459,\n 'становиться_VERB': 460,\n 'руководство_NOUN': 461,\n 'совет_PROPN': 462,\n 'письмо_NOUN': 463,\n 'доктор_NOUN': 464,\n 'направление_NOUN': 465,\n 'малый_ADJ': 466,\n 'перейти_VERB': 467,\n 'украинский_ADJ': 468,\n 'картина_NOUN': 469,\n 'поле_NOUN': 470,\n 'сельсовет_NOUN': 471,\n 'личный_ADJ': 472,\n 'регион_NOUN': 473,\n 'тренер_NOUN': 474,\n 'литература_NOUN': 475,\n 'продолжать_VERB': 476,\n 'пытаться_VERB': 477,\n 'летний_ADJ': 478,\n 'душа_NOUN': 479,\n 'режиссер_NOUN': 480,\n 'герой_NOUN': 481,\n 'губерния_NOUN': 482,\n 'единственный_ADJ': 483,\n 'памятник_NOUN': 484,\n 'подобный_ADJ': 485,\n 'морской_ADJ': 486,\n 'деньги_NOUN': 487,\n 'экономический_ADJ': 488,\n '2014_ADJ': 489,\n 'любить_VERB': 490,\n 'художественный_ADJ': 491,\n 'политика_NOUN': 492,\n 'участок_NOUN': 493,\n 'использование_NOUN': 494,\n 'провинция_NOUN': 495,\n 'большинство_NOUN': 496,\n 'честь_NOUN': 497,\n 'хозяйство_NOUN': 498,\n 'показать_VERB': 499,\n 'точка_NOUN': 500,\n 'свет_NOUN': 501,\n 'нога_NOUN': 502,\n 'перепись_NOUN': 503,\n 'till_X': 504,\n 'социальный_ADJ': 505,\n 'северный_PROPN': 506,\n 'сидеть_VERB': 507,\n 'событие_NOUN': 508,\n 'особенно_ADV': 509,\n 'британский_ADJ': 510,\n 'гражданский_ADJ': 511,\n 'необходимый_ADJ': 512,\n 'источник_NOUN': 513,\n 'мнение_NOUN': 514,\n 'погибнуть_VERB': 515,\n 'специальный_ADJ': 516,\n 'италия_PROPN': 517,\n 'спросить_VERB': 518,\n 'предприятие_NOUN': 519,\n 'несмотря_ADV': 520,\n 'роман_NOUN': 521,\n 'лес_NOUN': 522,\n 'коммуна_NOUN': 523,\n 'депутат_NOUN': 524,\n 'пора_NOUN': 525,\n 'монастырь_NOUN': 526,\n 'лига_NOUN': 527,\n 'железный_ADJ': 528,\n 'мера_NOUN': 529,\n 'женский_ADJ': 530,\n 'привести_VERB': 531,\n 'сразу_ADV': 532,\n 'составить_VERB': 533,\n 'издание_NOUN': 534,\n 'гора_NOUN': 535,\n 'иногда_ADV': 536,\n 'убить_VERB': 537,\n 'технический_ADJ': 538,\n 'сильный_ADJ': 539,\n 'позиция_NOUN': 540,\n 'орган_NOUN': 541,\n 'кубок_PROPN': 542,\n '1944_ADJ': 543,\n 'левый_ADJ': 544,\n 'км²_PROPN': 545,\n 'принадлежать_VERB': 546,\n 'понимать_VERB': 547,\n 'снова_ADV': 548,\n 'правило_NOUN': 549,\n 'метод_NOUN': 550,\n 'вскоре_ADV': 551,\n 'спорт_NOUN': 552,\n 'хорошо_ADV': 553,\n 'южный_PROPN': 554,\n 'особый_ADJ': 555,\n '3-й_ADJ': 556,\n 'проживать_VERB': 557,\n 'близкий_ADJ': 558,\n 'заместитель_NOUN': 559,\n 'выходить_VERB': 560,\n 'задача_NOUN': 561,\n 'половина_NOUN': 562,\n 'iii_NUM': 563,\n 'больше_ADV': 564,\n 'нижний_ADJ': 565,\n 'информация_NOUN': 566,\n 'сыграть_VERB': 567,\n 'размер_NOUN': 568,\n 'отделение_NOUN': 569,\n 'окончание_NOUN': 570,\n 'выборы_NOUN': 571,\n 'рано_ADV': 572,\n 'вновь_ADV': 573,\n 'память_NOUN': 574,\n 'далеко_ADV': 575,\n 'стена_NOUN': 576,\n 'внимание_NOUN': 577,\n 'озеро_NOUN': 578,\n 'награда_NOUN': 579,\n 'лето_NOUN': 580,\n 'северный_ADJ': 581,\n 'противник_NOUN': 582,\n 'идея_NOUN': 583,\n 'маленький_ADJ': 584,\n 'произойти_VERB': 585,\n 'оставить_VERB': 586,\n 'ныне_ADV': 587,\n 'комитет_NOUN': 588,\n 'волость_NOUN': 589,\n 'объявить_VERB': 590,\n 'иметься_VERB': 591,\n 'великобритания_PROPN': 592,\n 'конечно_ADV': 593,\n 'никогда_ADV': 594,\n 'влияние_NOUN': 595,\n 'футбол_NOUN': 596,\n 'отряд_NOUN': 597,\n 'стиль_NOUN': 598,\n 'факультет_NOUN': 599,\n 'база_NOUN': 600,\n 'муж_NOUN': 601,\n 'царь_NOUN': 602,\n 'успех_NOUN': 603,\n 'древний_ADJ': 604,\n 'изменение_NOUN': 605,\n 'западный_ADJ': 606,\n 'основание_NOUN': 607,\n 'этап_NOUN': 608,\n 'теория_NOUN': 609,\n 'получать_VERB': 610,\n 'итог_NOUN': 611,\n 'поэт_NOUN': 612,\n 'цвет_NOUN': 613,\n 'поддержка_NOUN': 614,\n 'передать_VERB': 615,\n 'кладбище_NOUN': 616,\n 'тонна_NOUN': 617,\n 'спортивный_ADJ': 618,\n 'мысль_NOUN': 619,\n 'рубль_NOUN': 620,\n 'император_NOUN': 621,\n 'почему_ADV': 622,\n 'код_NOUN': 623,\n 'структура_NOUN': 624,\n 'любовь_NOUN': 625,\n 'позволять_VERB': 626,\n 'финал_NOUN': 627,\n 'выиграть_VERB': 628,\n 'значительный_ADJ': 629,\n 'широкий_ADJ': 630,\n 'детский_ADJ': 631,\n 'стрелковый_ADJ': 632,\n 'посёлка_NOUN': 633,\n 'куда_ADV': 634,\n 'килограмм_NOUN': 635,\n 'правый_ADJ': 636,\n 'модель_NOUN': 637,\n 'уйти_VERB': 638,\n 'руководитель_NOUN': 639,\n 'вечер_NOUN': 640,\n 'курс_NOUN': 641,\n 'офицер_NOUN': 642,\n 'текст_NOUN': 643,\n 'капитан_NOUN': 644,\n 'самолет_NOUN': 645,\n 'расстояние_NOUN': 646,\n 'снять_VERB': 647,\n 'выпускник_NOUN': 648,\n 'элемент_NOUN': 649,\n 'понять_VERB': 650,\n 'вдруг_ADV': 651,\n 'просить_VERB': 652,\n 'совсем_ADV': 653,\n 'дверь_NOUN': 654,\n 'попасть_VERB': 655,\n 'бригада_NOUN': 656,\n 'порядок_NOUN': 657,\n 'встречаться_VERB': 658,\n 'актер_NOUN': 659,\n 'серебряный_ADJ': 660,\n 'быстро_ADV': 661,\n 'солдат_NOUN': 662,\n 'xx_NUM': 663,\n 'выход_NOUN': 664,\n 'отдел_NOUN': 665,\n 'чемпионат_PROPN': 666,\n 'иной_ADJ': 667,\n 'страница_NOUN': 668,\n 'юг_NOUN': 669,\n 'редактор_NOUN': 670,\n 'южный_ADJ': 671,\n 'требовать_VERB': 672,\n 'опубликовать_VERB': 673,\n 'впоследствии_ADV': 674,\n 'карта_NOUN': 675,\n 'номер_NOUN': 676,\n 'париж_PROPN': 677,\n 'православный_ADJ': 678,\n 'епископ_NOUN': 679,\n 'зона_NOUN': 680,\n 'избрать_VERB': 681,\n 'открытый_ADJ': 682,\n 'польский_ADJ': 683,\n 'дальнейший_ADJ': 684,\n 'черный_ADJ': 685,\n 'соревнование_NOUN': 686,\n 'япония_PROPN': 687,\n 'больший_ADJ': 688,\n 'включить_VERB': 689,\n 'счет_NOUN': 690,\n 'верхний_ADJ': 691,\n 'удаться_VERB': 692,\n 'америка_PROPN': 693,\n 'защита_NOUN': 694,\n 'училище_NOUN': 695,\n 'полковник_NOUN': 696,\n 'живой_ADJ': 697,\n 'неделя_NOUN': 698,\n 'обычно_ADV': 699,\n 'оборона_NOUN': 700,\n 'флот_NOUN': 701,\n 'читать_VERB': 702,\n 'сцена_NOUN': 703,\n 'авиационный_ADJ': 704,\n 'включать_VERB': 705,\n 'комната_NOUN': 706,\n 'футбольный_ADJ': 707,\n 'организовывать_VERB': 708,\n 'железнодорожный_ADJ': 709,\n 'рабочий_ADJ': 710,\n 'литературный_ADJ': 711,\n 'комплекс_NOUN': 712,\n 'сегодня_ADV': 713,\n 'парк_NOUN': 714,\n 'опять_ADV': 715,\n 'учиться_VERB': 716,\n 'профессиональный_ADJ': 717,\n 'остальной_ADJ': 718,\n 'выступление_NOUN': 719,\n 'тяжелый_ADJ': 720,\n 'частность_NOUN': 721,\n 'температура_NOUN': 722,\n 'водный_ADJ': 723,\n 'наконец_ADV': 724,\n 'называться_VERB': 725,\n 'заявить_VERB': 726,\n 'пост_NOUN': 727,\n 'север_NOUN': 728,\n 'сотрудник_NOUN': 729,\n 'интерес_NOUN': 730,\n 'фамилия_NOUN': 731,\n 'возможный_ADJ': 732,\n 'простой_ADJ': 733,\n 'собрание_NOUN': 734,\n 'xix_NUM': 735,\n 'оружие_NOUN': 736,\n 'отличие_NOUN': 737,\n 'воздух_NOUN': 738,\n 'середина_NOUN': 739,\n 'активный_ADJ': 740,\n 'девушка_NOUN': 741,\n 'тема_NOUN': 742,\n 'отметить_VERB': 743,\n 'сеть_NOUN': 744,\n 'титул_NOUN': 745,\n 'польша_PROPN': 746,\n 'лежать_VERB': 747,\n 'знак_NOUN': 748,\n 'внешний_ADJ': 749,\n 'рядом_ADV': 750,\n 'футболист_NOUN': 751,\n 'младший_ADJ': 752,\n 'равный_ADJ': 753,\n 'федеральный_ADJ': 754,\n 'предложить_VERB': 755,\n 'медицинский_ADJ': 756,\n 'документ_NOUN': 757,\n 'сердце_NOUN': 758,\n 'генеральный_ADJ': 759,\n 'полностью_ADV': 760,\n 'множество_NOUN': 761,\n 'сериал_NOUN': 762,\n 'зал_NOUN': 763,\n 'китай_PROPN': 764,\n 'испания_PROPN': 765,\n 'стол_NOUN': 766,\n 'вызвать_VERB': 767,\n 'содержать_VERB': 768,\n 'гражданин_NOUN': 769,\n 'огромный_ADJ': 770,\n 'примерно_ADV': 771,\n 'эпизод_NOUN': 772,\n 'слышать_VERB': 773,\n 'совершенно_ADV': 774,\n 'англия_PROPN': 775,\n 'выставка_NOUN': 776,\n 'большой_PROPN': 777,\n 'узнать_VERB': 778,\n 'перевод_NOUN': 779,\n 'растение_NOUN': 780,\n 'утро_NOUN': 781,\n 'свободный_ADJ': 782,\n 'постоянный_ADJ': 783,\n 'разработка_NOUN': 784,\n 'функция_NOUN': 785,\n 'канал_NOUN': 786,\n 'штаб_NOUN': 787,\n 'поступить_VERB': 788,\n 'сср_PROPN': 789,\n 'иностранный_ADJ': 790,\n 'пример_NOUN': 791,\n 'отвечать_VERB': 792,\n 'физический_ADJ': 793,\n 'запись_NOUN': 794,\n 'выпуск_NOUN': 795,\n 'характер_NOUN': 796,\n 'ранний_ADJ': 797,\n 'итальянский_ADJ': 798,\n 'библиотека_NOUN': 799,\n 'неизвестный_ADJ': 800,\n 'обнаружить_VERB': 801,\n 'происхождение_NOUN': 802,\n 'японский_ADJ': 803,\n 'взгляд_NOUN': 804,\n 'санкт-петербург_PROPN': 805,\n 'разработать_VERB': 806,\n 'секунда_NOUN': 807,\n 'рассказ_NOUN': 808,\n 'победитель_NOUN': 809,\n 'кафедра_NOUN': 810,\n 'революция_NOUN': 811,\n 'бывать_VERB': 812,\n 'учебный_ADJ': 813,\n 'мастер_NOUN': 814,\n 'встреча_NOUN': 815,\n 'вообще_ADV': 816,\n 'подготовка_NOUN': 817,\n 'орден_PROPN': 818,\n 'автомобиль_NOUN': 819,\n 'природа_NOUN': 820,\n 'речь_NOUN': 821,\n 'вариант_NOUN': 822,\n 'фильм_PROPN': 823,\n 'статус_NOUN': 824,\n 'мало_ADV': 825,\n 'техника_NOUN': 826,\n 'носить_VERB': 827,\n 'целый_ADJ': 828,\n 'категория_NOUN': 829,\n 'рамка_NOUN': 830,\n 'персонаж_NOUN': 831,\n 'исполнять_VERB': 832,\n 'прийтись_VERB': 833,\n 'шесть_NUM': 834,\n 'почётный_ADJ': 835,\n 'батальон_NOUN': 836,\n 'направить_VERB': 837,\n 'община_NOUN': 838,\n 'союз_NOUN': 839,\n 'признать_VERB': 840,\n 'терять_VERB': 841,\n 'рождение_NOUN': 842,\n 'дерево_NOUN': 843,\n 'герой_PROPN': 844,\n 'подписать_VERB': 845,\n 'достичь_VERB': 846,\n 'средство_NOUN': 847,\n '4-й_ADJ': 848,\n 'окно_NOUN': 849,\n 'социалистический_ADJ': 850,\n 'срок_NOUN': 851,\n 'ходить_VERB': 852,\n 'располагаться_VERB': 853,\n 'частный_ADJ': 854,\n 'попытка_NOUN': 855,\n 'нью-йорк_PROPN': 856,\n 'скорость_NOUN': 857,\n 'миллиметр_NOUN': 858,\n 'республика_NOUN': 859,\n 'образовывать_VERB': 860,\n 'описать_VERB': 861,\n 'доллар_NOUN': 862,\n 'раунд_NOUN': 863,\n 'сестра_NOUN': 864,\n 'сесть_VERB': 865,\n 'собор_NOUN': 866,\n 'оценка_NOUN': 867,\n 'духовный_ADJ': 868,\n 'опыт_NOUN': 869,\n 'нельзя_ADV': 870,\n 'пара_NOUN': 871,\n 'одновременно_ADV': 872,\n 'устройство_NOUN': 873,\n 'fontsize_X': 874,\n 'длинный_ADJ': 875,\n 'комиссия_NOUN': 876,\n 'сильно_ADV': 877,\n 'назад_ADV': 878,\n 'очередь_NOUN': 879,\n 'ситуация_NOUN': 880,\n 'бог_NOUN': 881,\n 'чувство_NOUN': 882,\n 'мост_NOUN': 883,\n '2012_NOUN': 884,\n 'секретарь_NOUN': 885,\n 'масса_NOUN': 886,\n 'алфавит_NOUN': 887,\n 'сначала_ADV': 888,\n 'уметь_VERB': 889,\n 'битва_NOUN': 890,\n 'звезда_NOUN': 891,\n 'семейство_NOUN': 892,\n 'технология_NOUN': 893,\n 'пользоваться_VERB': 894,\n 'королевский_ADJ': 895,\n 'рсфср_PROPN': 896,\n 'короткий_ADJ': 897,\n 'европейский_ADJ': 898,\n 'довольно_ADV': 899,\n 'ответ_NOUN': 900,\n 'ответить_VERB': 901,\n 'круг_NOUN': 902,\n 'герцог_NOUN': 903,\n 'изображение_NOUN': 904,\n 'предмет_NOUN': 905,\n 'смысл_NOUN': 906,\n 'преподаватель_NOUN': 907,\n 'предел_NOUN': 908,\n 'студент_NOUN': 909,\n 'римский_ADJ': 910,\n 'двигатель_NOUN': 911,\n 'рынок_NOUN': 912,\n 'заметить_VERB': 913,\n 'чёрный_ADJ': 914,\n 'удар_NOUN': 915,\n 'низкий_ADJ': 916,\n 'width_X': 917,\n 'бронзовый_ADJ': 918,\n 'культурный_ADJ': 919,\n 'свобода_NOUN': 920,\n 'рассказывать_VERB': 921,\n 'проведение_NOUN': 922,\n 'рост_NOUN': 923,\n 'отказаться_VERB': 924,\n 'командование_NOUN': 925,\n 'брак_NOUN': 926,\n 'актриса_NOUN': 927,\n 'позволить_VERB': 928,\n 'сад_NOUN': 929,\n 'передача_NOUN': 930,\n 'бассейн_NOUN': 931,\n 'композитор_NOUN': 932,\n 'лидер_NOUN': 933,\n 'производить_VERB': 934,\n 'врач_NOUN': 935,\n 'описание_NOUN': 936,\n 'способ_NOUN': 937,\n 'мужской_ADJ': 938,\n 'особенность_NOUN': 939,\n 'гвардейский_ADJ': 940,\n 'далее_ADV': 941,\n 'горный_ADJ': 942,\n 'др_NOUN': 943,\n 'человеческий_ADJ': 944,\n 'киев_PROPN': 945,\n 'столица_NOUN': 946,\n 'приказ_NOUN': 947,\n 'кандидат_NOUN': 948,\n 'at_X': 949,\n 'появляться_VERB': 950,\n 'отличаться_VERB': 951,\n 'восток_NOUN': 952,\n 'isbn_NOUN': 953,\n 'кино_NOUN': 954,\n 'александр_PROPN': 955,\n 'огонь_NOUN': 956,\n 'угол_NOUN': 957,\n 'китайский_ADJ': 958,\n 'режим_NOUN': 959,\n 'поддерживать_VERB': 960,\n 'принцип_NOUN': 961,\n 'точно_ADV': 962,\n 'архитектор_NOUN': 963,\n 'животное_NOUN': 964,\n 'учреждение_NOUN': 965,\n 'композиция_NOUN': 966,\n 'ученый_NOUN': 967,\n 'прежний_ADJ': 968,\n 'казахстан_PROPN': 969,\n 'факт_NOUN': 970,\n 'холодный_ADJ': 971,\n 'институт_PROPN': 972,\n 'воздушный_ADJ': 973,\n 'наградить_VERB': 974,\n 'конкурс_NOUN': 975,\n 'среда_NOUN': 976,\n 'прямой_ADJ': 977,\n 'сообщение_NOUN': 978,\n 'безопасность_NOUN': 979,\n 'контракт_NOUN': 980,\n 'сложный_ADJ': 981,\n 'совершить_VERB': 982,\n 'сохраниться_VERB': 983,\n 'промышленность_NOUN': 984,\n 'замок_NOUN': 985,\n 'вступить_VERB': 986,\n 'сборник_NOUN': 987,\n 'численность_NOUN': 988,\n 'ученик_NOUN': 989,\n 'контроль_NOUN': 990,\n 'правление_NOUN': 991,\n 'лист_NOUN': 992,\n 'ленинградский_ADJ': 993,\n 'бог_PROPN': 994,\n 'сантиметр_NOUN': 995,\n 'товарищ_NOUN': 996,\n 'специалист_NOUN': 997,\n 'вещь_NOUN': 998,\n 'сведение_NOUN': 999,\n ...}"
     },
     "execution_count": 6,
     "metadata": {},
     "output_type": "execute_result"
    }
   ],
   "source": [
    "g.key_to_index"
   ],
   "metadata": {
    "collapsed": false,
    "pycharm": {
     "name": "#%%\n"
    }
   }
  },
  {
   "cell_type": "code",
   "execution_count": 7,
   "outputs": [],
   "source": [
    "# t.size()"
   ],
   "metadata": {
    "collapsed": false,
    "pycharm": {
     "name": "#%%\n"
    }
   }
  },
  {
   "cell_type": "code",
   "execution_count": 8,
   "outputs": [],
   "source": [
    "from torch import nn"
   ],
   "metadata": {
    "collapsed": false,
    "pycharm": {
     "name": "#%%\n"
    }
   }
  },
  {
   "cell_type": "code",
   "execution_count": 9,
   "outputs": [],
   "source": [
    "# e = nn.Embedding(num_embeddings=249333, embedding_dim=300, _weight=t)"
   ],
   "metadata": {
    "collapsed": false,
    "pycharm": {
     "name": "#%%\n"
    }
   }
  },
  {
   "cell_type": "code",
   "execution_count": 10,
   "outputs": [],
   "source": [
    "# e(torch.tensor('привет'))"
   ],
   "metadata": {
    "collapsed": false,
    "pycharm": {
     "name": "#%%\n"
    }
   }
  },
  {
   "cell_type": "code",
   "execution_count": 11,
   "outputs": [],
   "source": [
    "# from nya_ml.preprocessing.rusvectores import Tokenizer"
   ],
   "metadata": {
    "collapsed": false,
    "pycharm": {
     "name": "#%%\n"
    }
   }
  },
  {
   "cell_type": "code",
   "execution_count": 12,
   "outputs": [],
   "source": [
    "# tokenizer.apply('привет всем ;;32;52;6221635%%%любителям пончиков')"
   ],
   "metadata": {
    "collapsed": false,
    "pycharm": {
     "name": "#%%\n"
    }
   }
  },
  {
   "cell_type": "code",
   "execution_count": 13,
   "outputs": [],
   "source": [
    "# tokenizer.tokenize('привет всем ;;32;52;6221635%%%любителям пончиков')"
   ],
   "metadata": {
    "collapsed": false,
    "pycharm": {
     "name": "#%%\n"
    }
   }
  },
  {
   "cell_type": "code",
   "execution_count": 15,
   "outputs": [
    {
     "data": {
      "text/plain": "'ещё_ADVB'"
     },
     "execution_count": 15,
     "metadata": {},
     "output_type": "execute_result"
    }
   ],
   "source": [
    "from nya_ml.preprocessing.tagger import tag\n",
    "tag('еще')"
   ],
   "metadata": {
    "collapsed": false,
    "pycharm": {
     "name": "#%%\n"
    }
   }
  },
  {
   "cell_type": "markdown",
   "source": [
    "# check"
   ],
   "metadata": {
    "collapsed": false,
    "pycharm": {
     "name": "#%% md\n"
    }
   }
  },
  {
   "cell_type": "code",
   "execution_count": 32,
   "outputs": [
    {
     "data": {
      "text/plain": "['этот_NOUN', 'этот_PROPN', 'этот_ADJ', 'этот_VERB']"
     },
     "execution_count": 32,
     "metadata": {},
     "output_type": "execute_result"
    }
   ],
   "source": [
    "list(filter(lambda w: w.startswith('этот'), g.key_to_index.keys()))"
   ],
   "metadata": {
    "collapsed": false,
    "pycharm": {
     "name": "#%%\n"
    }
   }
  },
  {
   "cell_type": "code",
   "execution_count": 136,
   "outputs": [],
   "source": [
    "# tokenizer.apply('гитлер')"
   ],
   "metadata": {
    "collapsed": false,
    "pycharm": {
     "name": "#%%\n"
    }
   }
  },
  {
   "cell_type": "code",
   "execution_count": 137,
   "outputs": [],
   "source": [
    "from nltk import RegexpTokenizer\n",
    "import nltk"
   ],
   "metadata": {
    "collapsed": false,
    "pycharm": {
     "name": "#%%\n"
    }
   }
  },
  {
   "cell_type": "code",
   "execution_count": 137,
   "outputs": [],
   "source": [],
   "metadata": {
    "collapsed": false,
    "pycharm": {
     "name": "#%%\n"
    }
   }
  },
  {
   "cell_type": "code",
   "execution_count": 138,
   "outputs": [
    {
     "data": {
      "text/plain": "['привет',\n 'всем',\n ';',\n ';',\n '32',\n ';',\n '52',\n ';',\n '6221635',\n '%',\n '%',\n '%',\n 'любителям',\n 'пончиков']"
     },
     "execution_count": 138,
     "metadata": {},
     "output_type": "execute_result"
    }
   ],
   "source": [
    "nltk.word_tokenize('привет всем ;;32;52;6221635%%%любителям пончиков', language='russian', preserve_line=False)"
   ],
   "metadata": {
    "collapsed": false,
    "pycharm": {
     "name": "#%%\n"
    }
   }
  },
  {
   "cell_type": "code",
   "execution_count": 139,
   "outputs": [],
   "source": [
    "t = RegexpTokenizer('')"
   ],
   "metadata": {
    "collapsed": false,
    "pycharm": {
     "name": "#%%\n"
    }
   }
  },
  {
   "cell_type": "code",
   "execution_count": 140,
   "outputs": [
    {
     "data": {
      "text/plain": "['',\n '',\n '',\n '',\n '',\n '',\n '',\n '',\n '',\n '',\n '',\n '',\n '',\n '',\n '',\n '',\n '',\n '',\n '',\n '',\n '',\n '',\n '',\n '',\n '',\n '',\n '',\n '',\n '',\n '',\n '',\n '',\n '',\n '',\n '',\n '',\n '',\n '',\n '',\n '',\n '',\n '',\n '',\n '',\n '',\n '',\n '',\n '',\n '']"
     },
     "execution_count": 140,
     "metadata": {},
     "output_type": "execute_result"
    }
   ],
   "source": [
    "t.tokenize('привет всем ;;32;52;6221635%%%любителям пончиков')"
   ],
   "metadata": {
    "collapsed": false,
    "pycharm": {
     "name": "#%%\n"
    }
   }
  },
  {
   "cell_type": "code",
   "execution_count": 141,
   "outputs": [
    {
     "data": {
      "text/plain": "False"
     },
     "execution_count": 141,
     "metadata": {},
     "output_type": "execute_result"
    }
   ],
   "source": [
    "'любителям_NOUN' in g.key_to_index"
   ],
   "metadata": {
    "collapsed": false,
    "pycharm": {
     "name": "#%%\n"
    }
   }
  },
  {
   "cell_type": "code",
   "execution_count": 142,
   "outputs": [],
   "source": [
    "from nya_ml.preprocessing.tagger import Tagger\n",
    "\n",
    "tokenize = lambda sent: list(map(Tagger().apply, nltk.word_tokenize(sent)))"
   ],
   "metadata": {
    "collapsed": false,
    "pycharm": {
     "name": "#%%\n"
    }
   }
  },
  {
   "cell_type": "code",
   "execution_count": 143,
   "outputs": [
    {
     "data": {
      "text/plain": "['привет_NOUN',\n 'весь_ADJF',\n ';_X',\n ';_X',\n '32_X',\n ';_X',\n '52_X',\n ';_X',\n '6221635_X',\n '%_X',\n '%_X',\n '%_X',\n 'любитель_NOUN',\n 'пончик_NOUN']"
     },
     "execution_count": 143,
     "metadata": {},
     "output_type": "execute_result"
    }
   ],
   "source": [
    "tokenize('привет всем ;;32;52;6221635%%%любителям пончиков')"
   ],
   "metadata": {
    "collapsed": false,
    "pycharm": {
     "name": "#%%\n"
    }
   }
  },
  {
   "cell_type": "code",
   "execution_count": 144,
   "outputs": [],
   "source": [
    "from nya_ml.preprocessing.tokenizer import Tokenizer"
   ],
   "metadata": {
    "collapsed": false,
    "pycharm": {
     "name": "#%%\n"
    }
   }
  },
  {
   "cell_type": "code",
   "execution_count": 145,
   "outputs": [],
   "source": [
    "from functools import partial\n",
    "\n",
    "tokenizer = Tokenizer(tagger=Tagger(), key_to_index=g.key_to_index, index_to_key=g.index_to_key)"
   ],
   "metadata": {
    "collapsed": false,
    "pycharm": {
     "name": "#%%\n"
    }
   }
  },
  {
   "cell_type": "code",
   "execution_count": 146,
   "outputs": [
    {
     "data": {
      "text/plain": "[10769, 244476, 3281, 62853]"
     },
     "execution_count": 146,
     "metadata": {},
     "output_type": "execute_result"
    }
   ],
   "source": [
    "tokenizer.apply('привет всем ;;32;52;6221635%%%любителям пончиков')"
   ],
   "metadata": {
    "collapsed": false,
    "pycharm": {
     "name": "#%%\n"
    }
   }
  },
  {
   "cell_type": "code",
   "execution_count": 147,
   "outputs": [
    {
     "data": {
      "text/plain": "'людовикус_PROPN'"
     },
     "execution_count": 147,
     "metadata": {},
     "output_type": "execute_result"
    }
   ],
   "source": [
    "g.index_to_key[-1]"
   ],
   "metadata": {
    "collapsed": false,
    "pycharm": {
     "name": "#%%\n"
    }
   }
  },
  {
   "cell_type": "code",
   "execution_count": 148,
   "outputs": [],
   "source": [
    "from torchdata.datapipes.iter import IterableWrapper, Mapper"
   ],
   "metadata": {
    "collapsed": false,
    "pycharm": {
     "name": "#%%\n"
    }
   }
  },
  {
   "cell_type": "code",
   "execution_count": 163,
   "outputs": [],
   "source": [
    "data = [\n",
    "    \"У нас есть прекрасная история, как сдохнуть за неделю!!)\",\n",
    "    \"я рааааааад,ведь сегодня впереди вся ночь,сериалы,фильмы,книга и кофе:) идеальная ночка:)\",\n",
    "    \"Мне одному   напоминает дом-2? Путин делает реалити-шоу? O_o\",\n",
    "    \"Выпилил powerpill и perl-xyne-arch из своего Арча, разработчик отказался от их поддержки, а жаль( #archlinux\",\n",
    "    \"У нас есть прекрасная история, как сдохнуть за неделю!!)\",\n",
    "    \"я рааааааад,ведь сегодня впереди вся ночь,сериалы,фильмы,книга и кофе:) идеальная ночка:)\",\n",
    "    \"Мне одному   напоминает дом-2? Путин делает реалити-шоу? O_o\",\n",
    "    \"Выпилил powerpill и perl-xyne-arch из своего Арча, разработчик отказался от их поддержки, а жаль( #archlinux\",\n",
    "\n",
    "]"
   ],
   "metadata": {
    "collapsed": false,
    "pycharm": {
     "name": "#%%\n"
    }
   }
  },
  {
   "cell_type": "code",
   "execution_count": 164,
   "outputs": [],
   "source": [
    "processed = list(map(torch.tensor, map(tokenizer.apply, data)))"
   ],
   "metadata": {
    "collapsed": false,
    "pycharm": {
     "name": "#%%\n"
    }
   }
  },
  {
   "cell_type": "code",
   "execution_count": 165,
   "outputs": [],
   "source": [
    "from torch.nn.utils.rnn import pad_sequence\n",
    "from torch.utils.data import TensorDataset\n"
   ],
   "metadata": {
    "collapsed": false,
    "pycharm": {
     "name": "#%%\n"
    }
   }
  },
  {
   "cell_type": "code",
   "execution_count": 166,
   "outputs": [],
   "source": [
    "padded = pad_sequence(processed, batch_first=True)"
   ],
   "metadata": {
    "collapsed": false,
    "pycharm": {
     "name": "#%%\n"
    }
   }
  },
  {
   "cell_type": "code",
   "execution_count": 167,
   "outputs": [
    {
     "data": {
      "text/plain": "tensor([[    67,    698,      0,      0,      0,      0],\n        [   444,    762,     54,    129,   4581,  81529],\n        [  1692,     55,      0,      0,      0,      0],\n        [151935, 144004,   2910,    924,    614,      0],\n        [    67,    698,      0,      0,      0,      0],\n        [   444,    762,     54,    129,   4581,  81529],\n        [  1692,     55,      0,      0,      0,      0],\n        [151935, 144004,   2910,    924,    614,      0]])"
     },
     "execution_count": 167,
     "metadata": {},
     "output_type": "execute_result"
    }
   ],
   "source": [
    "padded"
   ],
   "metadata": {
    "collapsed": false,
    "pycharm": {
     "name": "#%%\n"
    }
   }
  },
  {
   "cell_type": "code",
   "execution_count": 168,
   "outputs": [],
   "source": [
    "ds = TensorDataset(padded)"
   ],
   "metadata": {
    "collapsed": false,
    "pycharm": {
     "name": "#%%\n"
    }
   }
  },
  {
   "cell_type": "code",
   "execution_count": 169,
   "outputs": [
    {
     "data": {
      "text/plain": "(tensor([[    67,    698,      0,      0,      0,      0],\n         [   444,    762,     54,    129,   4581,  81529],\n         [  1692,     55,      0,      0,      0,      0],\n         [151935, 144004,   2910,    924,    614,      0],\n         [    67,    698,      0,      0,      0,      0],\n         [   444,    762,     54,    129,   4581,  81529],\n         [  1692,     55,      0,      0,      0,      0],\n         [151935, 144004,   2910,    924,    614,      0]]),)"
     },
     "execution_count": 169,
     "metadata": {},
     "output_type": "execute_result"
    }
   ],
   "source": [
    "ds.tensors"
   ],
   "metadata": {
    "collapsed": false,
    "pycharm": {
     "name": "#%%\n"
    }
   }
  },
  {
   "cell_type": "code",
   "execution_count": 176,
   "outputs": [],
   "source": [
    "from torchtext.vocab import vocab, GloVe"
   ],
   "metadata": {
    "collapsed": false,
    "pycharm": {
     "name": "#%%\n"
    }
   }
  },
  {
   "cell_type": "code",
   "execution_count": 177,
   "outputs": [
    {
     "name": "stderr",
     "output_type": "stream",
     "text": [
      ".vector_cache\\glove.840B.300d.zip:   0%|          | 4.71M/2.18G [00:03<25:32, 1.42MB/s]   \n"
     ]
    },
    {
     "ename": "KeyboardInterrupt",
     "evalue": "",
     "output_type": "error",
     "traceback": [
      "\u001B[1;31m---------------------------------------------------------------------------\u001B[0m",
      "\u001B[1;31mKeyboardInterrupt\u001B[0m                         Traceback (most recent call last)",
      "Input \u001B[1;32mIn [177]\u001B[0m, in \u001B[0;36m<module>\u001B[1;34m\u001B[0m\n\u001B[1;32m----> 1\u001B[0m \u001B[43mGloVe\u001B[49m\u001B[43m(\u001B[49m\u001B[43m)\u001B[49m\u001B[38;5;241m.\u001B[39mstoi\n",
      "File \u001B[1;32mc:\\users\\uiqko\\pyenvs\\mint\\lib\\site-packages\\torchtext\\vocab\\vectors.py:220\u001B[0m, in \u001B[0;36mGloVe.__init__\u001B[1;34m(self, name, dim, **kwargs)\u001B[0m\n\u001B[0;32m    218\u001B[0m url \u001B[38;5;241m=\u001B[39m \u001B[38;5;28mself\u001B[39m\u001B[38;5;241m.\u001B[39murl[name]\n\u001B[0;32m    219\u001B[0m name \u001B[38;5;241m=\u001B[39m \u001B[38;5;124m'\u001B[39m\u001B[38;5;124mglove.\u001B[39m\u001B[38;5;132;01m{}\u001B[39;00m\u001B[38;5;124m.\u001B[39m\u001B[38;5;132;01m{}\u001B[39;00m\u001B[38;5;124md.txt\u001B[39m\u001B[38;5;124m'\u001B[39m\u001B[38;5;241m.\u001B[39mformat(name, \u001B[38;5;28mstr\u001B[39m(dim))\n\u001B[1;32m--> 220\u001B[0m \u001B[38;5;28msuper\u001B[39m(GloVe, \u001B[38;5;28mself\u001B[39m)\u001B[38;5;241m.\u001B[39m\u001B[38;5;21m__init__\u001B[39m(name, url\u001B[38;5;241m=\u001B[39murl, \u001B[38;5;241m*\u001B[39m\u001B[38;5;241m*\u001B[39mkwargs)\n",
      "File \u001B[1;32mc:\\users\\uiqko\\pyenvs\\mint\\lib\\site-packages\\torchtext\\vocab\\vectors.py:59\u001B[0m, in \u001B[0;36mVectors.__init__\u001B[1;34m(self, name, cache, url, unk_init, max_vectors)\u001B[0m\n\u001B[0;32m     57\u001B[0m \u001B[38;5;28mself\u001B[39m\u001B[38;5;241m.\u001B[39mdim \u001B[38;5;241m=\u001B[39m \u001B[38;5;28;01mNone\u001B[39;00m\n\u001B[0;32m     58\u001B[0m \u001B[38;5;28mself\u001B[39m\u001B[38;5;241m.\u001B[39munk_init \u001B[38;5;241m=\u001B[39m torch\u001B[38;5;241m.\u001B[39mTensor\u001B[38;5;241m.\u001B[39mzero_ \u001B[38;5;28;01mif\u001B[39;00m unk_init \u001B[38;5;129;01mis\u001B[39;00m \u001B[38;5;28;01mNone\u001B[39;00m \u001B[38;5;28;01melse\u001B[39;00m unk_init\n\u001B[1;32m---> 59\u001B[0m \u001B[38;5;28;43mself\u001B[39;49m\u001B[38;5;241;43m.\u001B[39;49m\u001B[43mcache\u001B[49m\u001B[43m(\u001B[49m\u001B[43mname\u001B[49m\u001B[43m,\u001B[49m\u001B[43m \u001B[49m\u001B[43mcache\u001B[49m\u001B[43m,\u001B[49m\u001B[43m \u001B[49m\u001B[43murl\u001B[49m\u001B[38;5;241;43m=\u001B[39;49m\u001B[43murl\u001B[49m\u001B[43m,\u001B[49m\u001B[43m \u001B[49m\u001B[43mmax_vectors\u001B[49m\u001B[38;5;241;43m=\u001B[39;49m\u001B[43mmax_vectors\u001B[49m\u001B[43m)\u001B[49m\n",
      "File \u001B[1;32mc:\\users\\uiqko\\pyenvs\\mint\\lib\\site-packages\\torchtext\\vocab\\vectors.py:97\u001B[0m, in \u001B[0;36mVectors.cache\u001B[1;34m(self, name, cache, url, max_vectors)\u001B[0m\n\u001B[0;32m     95\u001B[0m         \u001B[38;5;28;01mexcept\u001B[39;00m \u001B[38;5;167;01mKeyboardInterrupt\u001B[39;00m \u001B[38;5;28;01mas\u001B[39;00m e:  \u001B[38;5;66;03m# remove the partial zip file\u001B[39;00m\n\u001B[0;32m     96\u001B[0m             os\u001B[38;5;241m.\u001B[39mremove(dest)\n\u001B[1;32m---> 97\u001B[0m             \u001B[38;5;28;01mraise\u001B[39;00m e\n\u001B[0;32m     98\u001B[0m logger\u001B[38;5;241m.\u001B[39minfo(\u001B[38;5;124m'\u001B[39m\u001B[38;5;124mExtracting vectors into \u001B[39m\u001B[38;5;132;01m{}\u001B[39;00m\u001B[38;5;124m'\u001B[39m\u001B[38;5;241m.\u001B[39mformat(cache))\n\u001B[0;32m     99\u001B[0m ext \u001B[38;5;241m=\u001B[39m os\u001B[38;5;241m.\u001B[39mpath\u001B[38;5;241m.\u001B[39msplitext(dest)[\u001B[38;5;241m1\u001B[39m][\u001B[38;5;241m1\u001B[39m:]\n",
      "File \u001B[1;32mc:\\users\\uiqko\\pyenvs\\mint\\lib\\site-packages\\torchtext\\vocab\\vectors.py:94\u001B[0m, in \u001B[0;36mVectors.cache\u001B[1;34m(self, name, cache, url, max_vectors)\u001B[0m\n\u001B[0;32m     92\u001B[0m \u001B[38;5;28;01mwith\u001B[39;00m tqdm(unit\u001B[38;5;241m=\u001B[39m\u001B[38;5;124m'\u001B[39m\u001B[38;5;124mB\u001B[39m\u001B[38;5;124m'\u001B[39m, unit_scale\u001B[38;5;241m=\u001B[39m\u001B[38;5;28;01mTrue\u001B[39;00m, miniters\u001B[38;5;241m=\u001B[39m\u001B[38;5;241m1\u001B[39m, desc\u001B[38;5;241m=\u001B[39mdest) \u001B[38;5;28;01mas\u001B[39;00m t:\n\u001B[0;32m     93\u001B[0m     \u001B[38;5;28;01mtry\u001B[39;00m:\n\u001B[1;32m---> 94\u001B[0m         \u001B[43murlretrieve\u001B[49m\u001B[43m(\u001B[49m\u001B[43murl\u001B[49m\u001B[43m,\u001B[49m\u001B[43m \u001B[49m\u001B[43mdest\u001B[49m\u001B[43m,\u001B[49m\u001B[43m \u001B[49m\u001B[43mreporthook\u001B[49m\u001B[38;5;241;43m=\u001B[39;49m\u001B[43mreporthook\u001B[49m\u001B[43m(\u001B[49m\u001B[43mt\u001B[49m\u001B[43m)\u001B[49m\u001B[43m)\u001B[49m\n\u001B[0;32m     95\u001B[0m     \u001B[38;5;28;01mexcept\u001B[39;00m \u001B[38;5;167;01mKeyboardInterrupt\u001B[39;00m \u001B[38;5;28;01mas\u001B[39;00m e:  \u001B[38;5;66;03m# remove the partial zip file\u001B[39;00m\n\u001B[0;32m     96\u001B[0m         os\u001B[38;5;241m.\u001B[39mremove(dest)\n",
      "File \u001B[1;32m~\\AppData\\Local\\Programs\\Python\\Python39\\lib\\urllib\\request.py:268\u001B[0m, in \u001B[0;36murlretrieve\u001B[1;34m(url, filename, reporthook, data)\u001B[0m\n\u001B[0;32m    265\u001B[0m     reporthook(blocknum, bs, size)\n\u001B[0;32m    267\u001B[0m \u001B[38;5;28;01mwhile\u001B[39;00m \u001B[38;5;28;01mTrue\u001B[39;00m:\n\u001B[1;32m--> 268\u001B[0m     block \u001B[38;5;241m=\u001B[39m \u001B[43mfp\u001B[49m\u001B[38;5;241;43m.\u001B[39;49m\u001B[43mread\u001B[49m\u001B[43m(\u001B[49m\u001B[43mbs\u001B[49m\u001B[43m)\u001B[49m\n\u001B[0;32m    269\u001B[0m     \u001B[38;5;28;01mif\u001B[39;00m \u001B[38;5;129;01mnot\u001B[39;00m block:\n\u001B[0;32m    270\u001B[0m         \u001B[38;5;28;01mbreak\u001B[39;00m\n",
      "File \u001B[1;32m~\\AppData\\Local\\Programs\\Python\\Python39\\lib\\http\\client.py:459\u001B[0m, in \u001B[0;36mHTTPResponse.read\u001B[1;34m(self, amt)\u001B[0m\n\u001B[0;32m    456\u001B[0m \u001B[38;5;28;01mif\u001B[39;00m amt \u001B[38;5;129;01mis\u001B[39;00m \u001B[38;5;129;01mnot\u001B[39;00m \u001B[38;5;28;01mNone\u001B[39;00m:\n\u001B[0;32m    457\u001B[0m     \u001B[38;5;66;03m# Amount is given, implement using readinto\u001B[39;00m\n\u001B[0;32m    458\u001B[0m     b \u001B[38;5;241m=\u001B[39m \u001B[38;5;28mbytearray\u001B[39m(amt)\n\u001B[1;32m--> 459\u001B[0m     n \u001B[38;5;241m=\u001B[39m \u001B[38;5;28;43mself\u001B[39;49m\u001B[38;5;241;43m.\u001B[39;49m\u001B[43mreadinto\u001B[49m\u001B[43m(\u001B[49m\u001B[43mb\u001B[49m\u001B[43m)\u001B[49m\n\u001B[0;32m    460\u001B[0m     \u001B[38;5;28;01mreturn\u001B[39;00m \u001B[38;5;28mmemoryview\u001B[39m(b)[:n]\u001B[38;5;241m.\u001B[39mtobytes()\n\u001B[0;32m    461\u001B[0m \u001B[38;5;28;01melse\u001B[39;00m:\n\u001B[0;32m    462\u001B[0m     \u001B[38;5;66;03m# Amount is not given (unbounded read) so we must check self.length\u001B[39;00m\n\u001B[0;32m    463\u001B[0m     \u001B[38;5;66;03m# and self.chunked\u001B[39;00m\n",
      "File \u001B[1;32m~\\AppData\\Local\\Programs\\Python\\Python39\\lib\\http\\client.py:503\u001B[0m, in \u001B[0;36mHTTPResponse.readinto\u001B[1;34m(self, b)\u001B[0m\n\u001B[0;32m    498\u001B[0m         b \u001B[38;5;241m=\u001B[39m \u001B[38;5;28mmemoryview\u001B[39m(b)[\u001B[38;5;241m0\u001B[39m:\u001B[38;5;28mself\u001B[39m\u001B[38;5;241m.\u001B[39mlength]\n\u001B[0;32m    500\u001B[0m \u001B[38;5;66;03m# we do not use _safe_read() here because this may be a .will_close\u001B[39;00m\n\u001B[0;32m    501\u001B[0m \u001B[38;5;66;03m# connection, and the user is reading more bytes than will be provided\u001B[39;00m\n\u001B[0;32m    502\u001B[0m \u001B[38;5;66;03m# (for example, reading in 1k chunks)\u001B[39;00m\n\u001B[1;32m--> 503\u001B[0m n \u001B[38;5;241m=\u001B[39m \u001B[38;5;28;43mself\u001B[39;49m\u001B[38;5;241;43m.\u001B[39;49m\u001B[43mfp\u001B[49m\u001B[38;5;241;43m.\u001B[39;49m\u001B[43mreadinto\u001B[49m\u001B[43m(\u001B[49m\u001B[43mb\u001B[49m\u001B[43m)\u001B[49m\n\u001B[0;32m    504\u001B[0m \u001B[38;5;28;01mif\u001B[39;00m \u001B[38;5;129;01mnot\u001B[39;00m n \u001B[38;5;129;01mand\u001B[39;00m b:\n\u001B[0;32m    505\u001B[0m     \u001B[38;5;66;03m# Ideally, we would raise IncompleteRead if the content-length\u001B[39;00m\n\u001B[0;32m    506\u001B[0m     \u001B[38;5;66;03m# wasn't satisfied, but it might break compatibility.\u001B[39;00m\n\u001B[0;32m    507\u001B[0m     \u001B[38;5;28mself\u001B[39m\u001B[38;5;241m.\u001B[39m_close_conn()\n",
      "File \u001B[1;32m~\\AppData\\Local\\Programs\\Python\\Python39\\lib\\socket.py:704\u001B[0m, in \u001B[0;36mSocketIO.readinto\u001B[1;34m(self, b)\u001B[0m\n\u001B[0;32m    702\u001B[0m \u001B[38;5;28;01mwhile\u001B[39;00m \u001B[38;5;28;01mTrue\u001B[39;00m:\n\u001B[0;32m    703\u001B[0m     \u001B[38;5;28;01mtry\u001B[39;00m:\n\u001B[1;32m--> 704\u001B[0m         \u001B[38;5;28;01mreturn\u001B[39;00m \u001B[38;5;28;43mself\u001B[39;49m\u001B[38;5;241;43m.\u001B[39;49m\u001B[43m_sock\u001B[49m\u001B[38;5;241;43m.\u001B[39;49m\u001B[43mrecv_into\u001B[49m\u001B[43m(\u001B[49m\u001B[43mb\u001B[49m\u001B[43m)\u001B[49m\n\u001B[0;32m    705\u001B[0m     \u001B[38;5;28;01mexcept\u001B[39;00m timeout:\n\u001B[0;32m    706\u001B[0m         \u001B[38;5;28mself\u001B[39m\u001B[38;5;241m.\u001B[39m_timeout_occurred \u001B[38;5;241m=\u001B[39m \u001B[38;5;28;01mTrue\u001B[39;00m\n",
      "\u001B[1;31mKeyboardInterrupt\u001B[0m: "
     ]
    }
   ],
   "source": [
    "vocab()"
   ],
   "metadata": {
    "collapsed": false,
    "pycharm": {
     "name": "#%%\n"
    }
   }
  },
  {
   "cell_type": "code",
   "execution_count": 205,
   "outputs": [],
   "source": [
    "from nltk import word_tokenize\n",
    "from collections import Counter\n",
    "\n",
    "v = vocab(g.key_to_index)\n",
    "# v.insert_token('<unk>', 0)\n",
    "# v.set_default_index(v['<unk>'])"
   ],
   "metadata": {
    "collapsed": false,
    "pycharm": {
     "name": "#%%\n"
    }
   }
  },
  {
   "cell_type": "code",
   "execution_count": 206,
   "outputs": [
    {
     "data": {
      "text/plain": "249331"
     },
     "execution_count": 206,
     "metadata": {},
     "output_type": "execute_result"
    }
   ],
   "source": [
    "v['людовикус_PROPN']"
   ],
   "metadata": {
    "collapsed": false,
    "pycharm": {
     "name": "#%%\n"
    }
   }
  },
  {
   "cell_type": "code",
   "execution_count": 191,
   "outputs": [
    {
     "data": {
      "text/plain": "[249332, 249332, 0]"
     },
     "execution_count": 191,
     "metadata": {},
     "output_type": "execute_result"
    }
   ],
   "source": [
    "v(['людовикус_PROPN', 'людовикус_PROPN', 's'])"
   ],
   "metadata": {
    "collapsed": false,
    "pycharm": {
     "name": "#%%\n"
    }
   }
  },
  {
   "cell_type": "code",
   "execution_count": 170,
   "outputs": [],
   "source": [
    "from torch.utils.data import DataLoader\n",
    "\n",
    "dl = DataLoader(ds, 2)"
   ],
   "metadata": {
    "collapsed": false,
    "pycharm": {
     "name": "#%%\n"
    }
   }
  },
  {
   "cell_type": "code",
   "execution_count": 174,
   "outputs": [
    {
     "name": "stdout",
     "output_type": "stream",
     "text": [
      "tensor([[   67,   698,     0,     0,     0,     0],\n",
      "        [  444,   762,    54,   129,  4581, 81529]])\n",
      "tensor([ 67, 698,   0,   0,   0,   0])\n",
      "['история', 'неделя', 'xxxxxxxx', 'xxxxxxxx', 'xxxxxxxx', 'xxxxxxxx']\n",
      "tensor([  444,   762,    54,   129,  4581, 81529])\n",
      "['ночь', 'сериал', 'фильм', 'книга', 'кофе', 'ночка']\n",
      "tensor([[  1692,     55,      0,      0,      0,      0],\n",
      "        [151935, 144004,   2910,    924,    614,      0]])\n",
      "tensor([1692,   55,    0,    0,    0,    0])\n",
      "['напоминать', 'делать', 'xxxxxxxx', 'xxxxxxxx', 'xxxxxxxx', 'xxxxxxxx']\n",
      "tensor([151935, 144004,   2910,    924,    614,      0])\n",
      "['выпилить', 'арча', 'разработчик', 'отказаться', 'поддержка', 'xxxxxxxx']\n",
      "tensor([[   67,   698,     0,     0,     0,     0],\n",
      "        [  444,   762,    54,   129,  4581, 81529]])\n",
      "tensor([ 67, 698,   0,   0,   0,   0])\n",
      "['история', 'неделя', 'xxxxxxxx', 'xxxxxxxx', 'xxxxxxxx', 'xxxxxxxx']\n",
      "ERROR! Session/line number was not unique intensor([  444,   762,    54,   129,  4581, 81529])\n",
      "['ночь', 'сериал', 'фильм', 'книга', 'кофе', 'ночка']\n",
      " database. History logging moved to new session 180\n",
      "tensor([[  1692,     55,      0,      0,      0,      0],\n",
      "        [151935, 144004,   2910,    924,    614,      0]])\n",
      "tensor([1692,   55,    0,    0,    0,    0])\n",
      "['напоминать', 'делать', 'xxxxxxxx', 'xxxxxxxx', 'xxxxxxxx', 'xxxxxxxx']\n",
      "tensor([151935, 144004,   2910,    924,    614,      0])\n",
      "['выпилить', 'арча', 'разработчик', 'отказаться', 'поддержка', 'xxxxxxxx']\n"
     ]
    }
   ],
   "source": [
    "for s in dl:\n",
    "    X, *y = s\n",
    "    print(X)\n",
    "    # print([c.size() for c in s])\n",
    "    for x in X:\n",
    "        print(x)\n",
    "        print(tokenizer.unapply(x.tolist()))"
   ],
   "metadata": {
    "collapsed": false,
    "pycharm": {
     "name": "#%%\n"
    }
   }
  },
  {
   "cell_type": "code",
   "execution_count": 155,
   "outputs": [
    {
     "data": {
      "text/plain": "[NotImplemented, NotImplemented, NotImplemented]"
     },
     "execution_count": 155,
     "metadata": {},
     "output_type": "execute_result"
    },
    {
     "name": "stdout",
     "output_type": "stream",
     "text": [
      "ERROR! Session/line number was not unique in database. History logging moved to new session 176\n"
     ]
    }
   ],
   "source": [
    "list(map((2).__sub__, list(torch.tensor([1, 2, 3]))))"
   ],
   "metadata": {
    "collapsed": false,
    "pycharm": {
     "name": "#%%\n"
    }
   }
  },
  {
   "cell_type": "code",
   "execution_count": 201,
   "outputs": [],
   "source": [
    "from nya_ml.preprocessing.tagger import tag\n",
    "\n",
    "v = vocab(g.key_to_index)\n",
    "v.insert_token('<unk>', 0)\n",
    "v.set_default_index(v['<unk>'])\n",
    "\n",
    "def tokenize(text: str):\n",
    "    tokens = word_tokenize(text, language='russian')\n",
    "    print(tokens)\n",
    "    tokens = v([tag(token) for token in tokens])\n",
    "    print(tokens)\n",
    "    return tokens"
   ],
   "metadata": {
    "collapsed": false,
    "pycharm": {
     "name": "#%%\n"
    }
   }
  },
  {
   "cell_type": "code",
   "execution_count": 31,
   "outputs": [
    {
     "ename": "NameError",
     "evalue": "name 'tokenize' is not defined",
     "output_type": "error",
     "traceback": [
      "\u001B[1;31m---------------------------------------------------------------------------\u001B[0m",
      "\u001B[1;31mNameError\u001B[0m                                 Traceback (most recent call last)",
      "Input \u001B[1;32mIn [31]\u001B[0m, in \u001B[0;36m<module>\u001B[1;34m\u001B[0m\n\u001B[1;32m----> 1\u001B[0m \u001B[43mtokenize\u001B[49m(\u001B[38;5;124m'\u001B[39m\u001B[38;5;124mпривет всем ;;32;52;6221635\u001B[39m\u001B[38;5;132;01m%%\u001B[39;00m\u001B[38;5;124m%\u001B[39m\u001B[38;5;124mлюбителям пончиков\u001B[39m\u001B[38;5;124m'\u001B[39m)\n",
      "\u001B[1;31mNameError\u001B[0m: name 'tokenize' is not defined"
     ]
    }
   ],
   "source": [
    "tokenize('привет всем ;;32;52;6221635%%%любителям пончиков')"
   ],
   "metadata": {
    "collapsed": false,
    "pycharm": {
     "name": "#%%\n"
    }
   }
  },
  {
   "cell_type": "code",
   "execution_count": 211,
   "outputs": [],
   "source": [
    "import numpy as np"
   ],
   "metadata": {
    "collapsed": false,
    "pycharm": {
     "name": "#%%\n"
    }
   }
  },
  {
   "cell_type": "code",
   "execution_count": 212,
   "outputs": [
    {
     "ename": "ValueError",
     "evalue": "The truth value of an array with more than one element is ambiguous. Use a.any() or a.all()",
     "output_type": "error",
     "traceback": [
      "\u001B[1;31m---------------------------------------------------------------------------\u001B[0m",
      "\u001B[1;31mValueError\u001B[0m                                Traceback (most recent call last)",
      "Input \u001B[1;32mIn [212]\u001B[0m, in \u001B[0;36m<module>\u001B[1;34m\u001B[0m\n\u001B[1;32m----> 1\u001B[0m ebs \u001B[38;5;241m=\u001B[39m \u001B[43mvocab\u001B[49m\u001B[43m(\u001B[49m\u001B[38;5;28;43mdict\u001B[39;49m\u001B[43m(\u001B[49m\u001B[38;5;28;43menumerate\u001B[39;49m\u001B[43m(\u001B[49m\u001B[43mg\u001B[49m\u001B[38;5;241;43m.\u001B[39;49m\u001B[43mvectors\u001B[49m\u001B[43m)\u001B[49m\u001B[43m)\u001B[49m\u001B[43m,\u001B[49m\u001B[43m \u001B[49m\u001B[43mmin_freq\u001B[49m\u001B[38;5;241;43m=\u001B[39;49m\u001B[43mnp\u001B[49m\u001B[38;5;241;43m.\u001B[39;49m\u001B[43mzeros\u001B[49m\u001B[43m(\u001B[49m\u001B[38;5;241;43m300\u001B[39;49m\u001B[43m)\u001B[49m\u001B[43m)\u001B[49m\n",
      "File \u001B[1;32mc:\\users\\uiqko\\pyenvs\\mint\\lib\\site-packages\\torchtext\\vocab\\vocab_factory.py:54\u001B[0m, in \u001B[0;36mvocab\u001B[1;34m(ordered_dict, min_freq, specials, special_first)\u001B[0m\n\u001B[0;32m     52\u001B[0m \u001B[38;5;66;03m# Save room for special tokens\u001B[39;00m\n\u001B[0;32m     53\u001B[0m \u001B[38;5;28;01mfor\u001B[39;00m token, freq \u001B[38;5;129;01min\u001B[39;00m ordered_dict\u001B[38;5;241m.\u001B[39mitems():\n\u001B[1;32m---> 54\u001B[0m     \u001B[38;5;28;01mif\u001B[39;00m \u001B[43mfreq\u001B[49m\u001B[43m \u001B[49m\u001B[38;5;241;43m>\u001B[39;49m\u001B[38;5;241;43m=\u001B[39;49m\u001B[43m \u001B[49m\u001B[43mmin_freq\u001B[49m:\n\u001B[0;32m     55\u001B[0m         tokens\u001B[38;5;241m.\u001B[39mappend(token)\n\u001B[0;32m     57\u001B[0m \u001B[38;5;28;01mif\u001B[39;00m special_first:\n",
      "\u001B[1;31mValueError\u001B[0m: The truth value of an array with more than one element is ambiguous. Use a.any() or a.all()"
     ]
    }
   ],
   "source": [
    "ebs = vocab(dict(enumerate(g.vectors)), min_freq=np.zeros(300))"
   ],
   "metadata": {
    "collapsed": false,
    "pycharm": {
     "name": "#%%\n"
    }
   }
  },
  {
   "cell_type": "code",
   "execution_count": 209,
   "outputs": [
    {
     "data": {
      "text/plain": "(249333, 300)"
     },
     "execution_count": 209,
     "metadata": {},
     "output_type": "execute_result"
    }
   ],
   "source": [
    "g.vectors.shape"
   ],
   "metadata": {
    "collapsed": false,
    "pycharm": {
     "name": "#%%\n"
    }
   }
  },
  {
   "cell_type": "code",
   "execution_count": null,
   "outputs": [],
   "source": [
    "def"
   ],
   "metadata": {
    "collapsed": false,
    "pycharm": {
     "name": "#%%\n"
    }
   }
  },
  {
   "cell_type": "code",
   "execution_count": 213,
   "outputs": [
    {
     "data": {
      "text/plain": "array([0., 0., 0., 0., 0., 0., 0., 0., 0., 0., 0., 0., 0., 0., 0., 0., 0.,\n       0., 0., 0., 0., 0., 0., 0., 0., 0., 0., 0., 0., 0., 0., 0., 0., 0.,\n       0., 0., 0., 0., 0., 0., 0., 0., 0., 0., 0., 0., 0., 0., 0., 0., 0.,\n       0., 0., 0., 0., 0., 0., 0., 0., 0., 0., 0., 0., 0., 0., 0., 0., 0.,\n       0., 0., 0., 0., 0., 0., 0., 0., 0., 0., 0., 0., 0., 0., 0., 0., 0.,\n       0., 0., 0., 0., 0., 0., 0., 0., 0., 0., 0., 0., 0., 0., 0., 0., 0.,\n       0., 0., 0., 0., 0., 0., 0., 0., 0., 0., 0., 0., 0., 0., 0., 0., 0.,\n       0., 0., 0., 0., 0., 0., 0., 0., 0., 0., 0., 0., 0., 0., 0., 0., 0.,\n       0., 0., 0., 0., 0., 0., 0., 0., 0., 0., 0., 0., 0., 0., 0., 0., 0.,\n       0., 0., 0., 0., 0., 0., 0., 0., 0., 0., 0., 0., 0., 0., 0., 0., 0.,\n       0., 0., 0., 0., 0., 0., 0., 0., 0., 0., 0., 0., 0., 0., 0., 0., 0.,\n       0., 0., 0., 0., 0., 0., 0., 0., 0., 0., 0., 0., 0., 0., 0., 0., 0.,\n       0., 0., 0., 0., 0., 0., 0., 0., 0., 0., 0., 0., 0., 0., 0., 0., 0.,\n       0., 0., 0., 0., 0., 0., 0., 0., 0., 0., 0., 0., 0., 0., 0., 0., 0.,\n       0., 0., 0., 0., 0., 0., 0., 0., 0., 0., 0., 0., 0., 0., 0., 0., 0.,\n       0., 0., 0., 0., 0., 0., 0., 0., 0., 0., 0., 0., 0., 0., 0., 0., 0.,\n       0., 0., 0., 0., 0., 0., 0., 0., 0., 0., 0., 0., 0., 0., 0., 0., 0.,\n       0., 0., 0., 0., 0., 0., 0., 0., 0., 0., 0.])"
     },
     "execution_count": 213,
     "metadata": {},
     "output_type": "execute_result"
    }
   ],
   "source": [
    "np.zeros(300)"
   ],
   "metadata": {
    "collapsed": false,
    "pycharm": {
     "name": "#%%\n"
    }
   }
  }
 ],
 "metadata": {
  "kernelspec": {
   "display_name": "Python 3",
   "language": "python",
   "name": "python3"
  },
  "language_info": {
   "codemirror_mode": {
    "name": "ipython",
    "version": 2
   },
   "file_extension": ".py",
   "mimetype": "text/x-python",
   "name": "python",
   "nbconvert_exporter": "python",
   "pygments_lexer": "ipython2",
   "version": "2.7.6"
  }
 },
 "nbformat": 4,
 "nbformat_minor": 0
}