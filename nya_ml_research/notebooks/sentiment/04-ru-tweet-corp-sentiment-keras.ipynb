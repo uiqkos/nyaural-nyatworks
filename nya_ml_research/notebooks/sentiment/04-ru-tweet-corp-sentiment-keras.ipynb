{
 "cells": [
  {
   "cell_type": "code",
   "execution_count": 14,
   "metadata": {
    "collapsed": true
   },
   "outputs": [],
   "source": [
    "from functools import partial\n",
    "\n",
    "import keras\n",
    "import pandas as pd\n",
    "import numpy as np\n",
    "import torch\n",
    "from sklearn.utils import shuffle\n",
    "from sklearn.model_selection import train_test_split\n",
    "from tqdm import tqdm\n",
    "from keras import Sequential\n",
    "from keras.layers import Conv1D, Flatten, Dense, Dropout, Input, Embedding, MaxPool1D\n",
    "\n",
    "from nya_ml import embeddings\n",
    "from nya_ml.preprocessing.tokenizer import Tokenizer\n",
    "from nya_ml_research.config import MODELS_PATH, DATA_PATH"
   ]
  },
  {
   "cell_type": "code",
   "execution_count": 2,
   "outputs": [],
   "source": [
    "tqdm.pandas()"
   ],
   "metadata": {
    "collapsed": false,
    "pycharm": {
     "name": "#%%\n"
    }
   }
  },
  {
   "cell_type": "code",
   "execution_count": 3,
   "outputs": [],
   "source": [
    "%load_ext autoreload\n",
    "%autoreload 2"
   ],
   "metadata": {
    "collapsed": false,
    "pycharm": {
     "name": "#%%\n"
    }
   }
  },
  {
   "cell_type": "code",
   "execution_count": 4,
   "outputs": [],
   "source": [
    "keyed_vectors = embeddings.get_source('ruwiki').load(MODELS_PATH / 'embeddings')"
   ],
   "metadata": {
    "collapsed": false,
    "pycharm": {
     "name": "#%%\n"
    }
   }
  },
  {
   "cell_type": "code",
   "execution_count": 5,
   "outputs": [
    {
     "name": "stderr",
     "output_type": "stream",
     "text": [
      "c:\\users\\uiqko\\pyenvs\\mint\\lib\\site-packages\\gensim\\models\\keyedvectors.py:478: UserWarning: Adding single vectors to a KeyedVectors which grows by one each time can be costly. Consider adding in batches or preallocating to the required size.\n",
      "  warnings.warn(\n"
     ]
    }
   ],
   "source": [
    "tokenizer = Tokenizer(keyed_vectors)\n",
    "tokenize = partial(tokenizer.tokenize, to=list, pad=50)\n",
    "vectorize = tokenizer.vectorize"
   ],
   "metadata": {
    "collapsed": false,
    "pycharm": {
     "name": "#%%\n"
    }
   }
  },
  {
   "cell_type": "code",
   "execution_count": 6,
   "outputs": [],
   "source": [
    "# weights = embedding.get_torch_tensor_embeddings()\n",
    "weights = torch.from_numpy(tokenizer.vectors.vectors)"
   ],
   "metadata": {
    "collapsed": false,
    "pycharm": {
     "name": "#%%\n"
    }
   }
  },
  {
   "cell_type": "code",
   "execution_count": 17,
   "outputs": [
    {
     "name": "stderr",
     "output_type": "stream",
     "text": [
      "100%|██████████| 10000/10000 [00:20<00:00, 487.31it/s]\n"
     ]
    }
   ],
   "source": [
    "limit = 10_000\n",
    "\n",
    "df = pd.read_csv(DATA_PATH / 'raw' / 'ru-tweet-corp.csv', names=['text', 'label'], usecols=[4, 5])\n",
    "df = shuffle(df)\n",
    "\n",
    "X = df.text.head(limit)\n",
    "y = df.label.head(limit)\n",
    "\n",
    "X = X.progress_apply(tokenize)\n",
    "# y = y.progress_apply(lambda label: [label, 1 - label][::-1])\n",
    "\n",
    "X = np.array(X.tolist())\n",
    "y = np.array(y.tolist())\n",
    "\n",
    "# X = torch.from_numpy(X)\n",
    "# y = torch.from_numpy(y).float()\n",
    "\n",
    "# X_train, X_test, y_train, y_test = train_test_split(X, y, test_size=0.2, stratify=y)"
   ],
   "metadata": {
    "collapsed": false,
    "pycharm": {
     "name": "#%%\n"
    }
   }
  },
  {
   "cell_type": "code",
   "execution_count": 11,
   "outputs": [],
   "source": [
    "model = Sequential([\n",
    "    Embedding(\n",
    "        input_dim=len(tokenizer.vectors),\n",
    "        output_dim=tokenizer.vectors.vector_size,\n",
    "        input_length=50,\n",
    "        weights=[weights],\n",
    "        trainable=False\n",
    "    ),\n",
    "\n",
    "    Conv1D(\n",
    "        filters=100,\n",
    "        kernel_size=4,\n",
    "        activation='relu'\n",
    "    ),\n",
    "    MaxPool1D(3),\n",
    "\n",
    "    Flatten(),\n",
    "    Dropout(0.5),\n",
    "\n",
    "    Dense(100),\n",
    "    Dropout(0.5),\n",
    "\n",
    "    Dense(1, activation='softmax')\n",
    "])"
   ],
   "metadata": {
    "collapsed": false,
    "pycharm": {
     "name": "#%%\n"
    }
   }
  },
  {
   "cell_type": "code",
   "execution_count": null,
   "outputs": [],
   "source": [
    "model"
   ],
   "metadata": {
    "collapsed": false,
    "pycharm": {
     "name": "#%%\n"
    }
   }
  },
  {
   "cell_type": "code",
   "execution_count": 12,
   "outputs": [
    {
     "name": "stdout",
     "output_type": "stream",
     "text": [
      "Model: \"sequential_2\"\n",
      "_________________________________________________________________\n",
      " Layer (type)                Output Shape              Param #   \n",
      "=================================================================\n",
      " embedding_2 (Embedding)     (None, 50, 300)           74800200  \n",
      "                                                                 \n",
      " conv1d_2 (Conv1D)           (None, 47, 100)           120100    \n",
      "                                                                 \n",
      " max_pooling1d_2 (MaxPooling  (None, 15, 100)          0         \n",
      " 1D)                                                             \n",
      "                                                                 \n",
      " flatten_3 (Flatten)         (None, 1500)              0         \n",
      "                                                                 \n",
      " dropout_3 (Dropout)         (None, 1500)              0         \n",
      "                                                                 \n",
      " dense_2 (Dense)             (None, 100)               150100    \n",
      "                                                                 \n",
      " dropout_4 (Dropout)         (None, 100)               0         \n",
      "                                                                 \n",
      " dense_3 (Dense)             (None, 1)                 101       \n",
      "                                                                 \n",
      "=================================================================\n",
      "Total params: 75,070,501\n",
      "Trainable params: 270,301\n",
      "Non-trainable params: 74,800,200\n",
      "_________________________________________________________________\n"
     ]
    }
   ],
   "source": [
    "model.summary()"
   ],
   "metadata": {
    "collapsed": false,
    "pycharm": {
     "name": "#%%\n"
    }
   }
  },
  {
   "cell_type": "code",
   "execution_count": 13,
   "outputs": [],
   "source": [
    "model.compile(\n",
    "    loss='categorical_crossentropy',\n",
    "    metrics=['accuracy']\n",
    ")"
   ],
   "metadata": {
    "collapsed": false,
    "pycharm": {
     "name": "#%%\n"
    }
   }
  },
  {
   "cell_type": "code",
   "execution_count": 18,
   "outputs": [
    {
     "name": "stdout",
     "output_type": "stream",
     "text": [
      "Epoch 1/10\n",
      "250/250 [==============================] - 4s 12ms/step - loss: 0.0000e+00 - accuracy: 0.5055 - val_loss: 0.0000e+00 - val_accuracy: 0.5045\n",
      "Epoch 2/10\n",
      "250/250 [==============================] - 3s 11ms/step - loss: 0.0000e+00 - accuracy: 0.5055 - val_loss: 0.0000e+00 - val_accuracy: 0.5045\n",
      "Epoch 3/10\n",
      "250/250 [==============================] - 3s 11ms/step - loss: 0.0000e+00 - accuracy: 0.5055 - val_loss: 0.0000e+00 - val_accuracy: 0.5045\n",
      "Epoch 4/10\n",
      "250/250 [==============================] - 3s 12ms/step - loss: 0.0000e+00 - accuracy: 0.5055 - val_loss: 0.0000e+00 - val_accuracy: 0.5045\n",
      "Epoch 5/10\n",
      "250/250 [==============================] - 3s 12ms/step - loss: 0.0000e+00 - accuracy: 0.5055 - val_loss: 0.0000e+00 - val_accuracy: 0.5045\n",
      "Epoch 6/10\n",
      "250/250 [==============================] - 3s 12ms/step - loss: 0.0000e+00 - accuracy: 0.5055 - val_loss: 0.0000e+00 - val_accuracy: 0.5045\n",
      "Epoch 7/10\n",
      "250/250 [==============================] - 3s 12ms/step - loss: 0.0000e+00 - accuracy: 0.5055 - val_loss: 0.0000e+00 - val_accuracy: 0.5045\n",
      "Epoch 8/10\n",
      "250/250 [==============================] - 3s 12ms/step - loss: 0.0000e+00 - accuracy: 0.5055 - val_loss: 0.0000e+00 - val_accuracy: 0.5045\n",
      "Epoch 9/10\n",
      "250/250 [==============================] - 3s 12ms/step - loss: 0.0000e+00 - accuracy: 0.5055 - val_loss: 0.0000e+00 - val_accuracy: 0.5045\n",
      "Epoch 10/10\n",
      "250/250 [==============================] - 3s 12ms/step - loss: 0.0000e+00 - accuracy: 0.5055 - val_loss: 0.0000e+00 - val_accuracy: 0.5045\n"
     ]
    },
    {
     "data": {
      "text/plain": "<keras.callbacks.History at 0x1da0a286100>"
     },
     "execution_count": 18,
     "metadata": {},
     "output_type": "execute_result"
    }
   ],
   "source": [
    "model.fit(\n",
    "    X, y,\n",
    "    batch_size=32,\n",
    "    epochs=10,\n",
    "    validation_split=0.2,\n",
    ")"
   ],
   "metadata": {
    "collapsed": false,
    "pycharm": {
     "name": "#%%\n"
    }
   }
  }
 ],
 "metadata": {
  "kernelspec": {
   "display_name": "Python 3",
   "language": "python",
   "name": "python3"
  },
  "language_info": {
   "codemirror_mode": {
    "name": "ipython",
    "version": 2
   },
   "file_extension": ".py",
   "mimetype": "text/x-python",
   "name": "python",
   "nbconvert_exporter": "python",
   "pygments_lexer": "ipython2",
   "version": "2.7.6"
  }
 },
 "nbformat": 4,
 "nbformat_minor": 0
}