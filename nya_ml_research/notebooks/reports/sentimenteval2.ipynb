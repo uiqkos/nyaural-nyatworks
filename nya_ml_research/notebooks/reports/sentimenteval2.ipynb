{
 "cells": [
  {
   "cell_type": "code",
   "execution_count": 1,
   "metadata": {
    "collapsed": true
   },
   "outputs": [],
   "source": [
    "from operator import itemgetter\n",
    "\n",
    "import pandas as pd\n",
    "from more_itertools import flatten\n",
    "from sklearn.utils import gen_batches\n",
    "from tqdm.notebook import tqdm\n",
    "\n",
    "from nya_ml.models.blanchefort_rubert_sentiment import BlanchefortRuBertSentiment\n",
    "from nya_ml.models.tatyana_rubert_sentiment import TatyanaRuBertSentiment\n",
    "from nya_ml_research.config import DATA_PATH"
   ]
  },
  {
   "cell_type": "code",
   "execution_count": 2,
   "outputs": [],
   "source": [
    "%load_ext autoreload\n",
    "%autoreload 2"
   ],
   "metadata": {
    "collapsed": false,
    "pycharm": {
     "name": "#%%\n"
    }
   }
  },
  {
   "cell_type": "code",
   "execution_count": 3,
   "outputs": [],
   "source": [
    "blanchefort = BlanchefortRuBertSentiment.load()"
   ],
   "metadata": {
    "collapsed": false,
    "pycharm": {
     "name": "#%%\n"
    }
   }
  },
  {
   "cell_type": "code",
   "execution_count": 4,
   "outputs": [
    {
     "name": "stderr",
     "output_type": "stream",
     "text": [
      "\n",
      "KeyboardInterrupt\n",
      "\n"
     ]
    }
   ],
   "source": [
    "tatyana = TatyanaRuBertSentiment.load()"
   ],
   "metadata": {
    "collapsed": false,
    "pycharm": {
     "name": "#%%\n"
    }
   }
  },
  {
   "cell_type": "code",
   "execution_count": 8,
   "outputs": [
    {
     "data": {
      "text/plain": "{'neutral': 0.9178354144096375,\n 'positive': 0.08072204142808914,\n 'negative': 0.0014424966648221016}"
     },
     "execution_count": 8,
     "metadata": {},
     "output_type": "execute_result"
    }
   ],
   "source": [
    "blanchefort.predict(['Привет всем любителям пончиков'])"
   ],
   "metadata": {
    "collapsed": false,
    "pycharm": {
     "name": "#%%\n"
    }
   }
  },
  {
   "cell_type": "code",
   "execution_count": 12,
   "outputs": [
    {
     "data": {
      "text/plain": "{'NEUTRAL': 0.18066978454589844,\n 'POSITIVE': 0.06783491373062134,\n 'NEGATIVE': 0.7514952421188354}"
     },
     "execution_count": 12,
     "metadata": {},
     "output_type": "execute_result"
    }
   ],
   "source": [
    "tatyana.predict(['Привет всем любителям пончиков'])"
   ],
   "metadata": {
    "collapsed": false,
    "pycharm": {
     "name": "#%%\n"
    }
   }
  },
  {
   "cell_type": "code",
   "execution_count": 5,
   "outputs": [],
   "source": [
    "rusentiment = pd.read_csv(DATA_PATH / 'raw' / 'sentiment' / 'rusentiment_random_posts.csv')"
   ],
   "metadata": {
    "collapsed": false,
    "pycharm": {
     "name": "#%%\n"
    }
   }
  },
  {
   "cell_type": "code",
   "execution_count": 6,
   "outputs": [
    {
     "data": {
      "text/plain": "(21268, 2)"
     },
     "execution_count": 6,
     "metadata": {},
     "output_type": "execute_result"
    }
   ],
   "source": [
    "rusentiment.shape"
   ],
   "metadata": {
    "collapsed": false,
    "pycharm": {
     "name": "#%%\n"
    }
   }
  },
  {
   "cell_type": "code",
   "execution_count": 32,
   "outputs": [
    {
     "data": {
      "text/plain": "      label                                               text\n0  negative  А попа подозревала давно,что ты с кавказа..пер...\n1    speech                    З прошедшим Днем Ангела))))))))\n2      skip                 Два дня до отлёта с острова!!!!!!!\n3  negative   Блин, почему эта жизнь столь не справедлива ((((\n4      skip  где еще встречать свой день рождения как не на...\n5   neutral  Решите уравнение мужских дел для жизни :\\nДомо...\n6  positive                    патамушта я крутая баба! ееее!!\n7   neutral                                     Просто пост :)\n8  positive                        урря!я дождался этой овцыы)\n9    speech  С Днем Рождения желаю много счастья, любви и у...",
      "text/html": "<div>\n<style scoped>\n    .dataframe tbody tr th:only-of-type {\n        vertical-align: middle;\n    }\n\n    .dataframe tbody tr th {\n        vertical-align: top;\n    }\n\n    .dataframe thead th {\n        text-align: right;\n    }\n</style>\n<table border=\"1\" class=\"dataframe\">\n  <thead>\n    <tr style=\"text-align: right;\">\n      <th></th>\n      <th>label</th>\n      <th>text</th>\n    </tr>\n  </thead>\n  <tbody>\n    <tr>\n      <th>0</th>\n      <td>negative</td>\n      <td>А попа подозревала давно,что ты с кавказа..пер...</td>\n    </tr>\n    <tr>\n      <th>1</th>\n      <td>speech</td>\n      <td>З прошедшим Днем Ангела))))))))</td>\n    </tr>\n    <tr>\n      <th>2</th>\n      <td>skip</td>\n      <td>Два дня до отлёта с острова!!!!!!!</td>\n    </tr>\n    <tr>\n      <th>3</th>\n      <td>negative</td>\n      <td>Блин, почему эта жизнь столь не справедлива ((((</td>\n    </tr>\n    <tr>\n      <th>4</th>\n      <td>skip</td>\n      <td>где еще встречать свой день рождения как не на...</td>\n    </tr>\n    <tr>\n      <th>5</th>\n      <td>neutral</td>\n      <td>Решите уравнение мужских дел для жизни :\\nДомо...</td>\n    </tr>\n    <tr>\n      <th>6</th>\n      <td>positive</td>\n      <td>патамушта я крутая баба! ееее!!</td>\n    </tr>\n    <tr>\n      <th>7</th>\n      <td>neutral</td>\n      <td>Просто пост :)</td>\n    </tr>\n    <tr>\n      <th>8</th>\n      <td>positive</td>\n      <td>урря!я дождался этой овцыы)</td>\n    </tr>\n    <tr>\n      <th>9</th>\n      <td>speech</td>\n      <td>С Днем Рождения желаю много счастья, любви и у...</td>\n    </tr>\n  </tbody>\n</table>\n</div>"
     },
     "execution_count": 32,
     "metadata": {},
     "output_type": "execute_result"
    }
   ],
   "source": [
    "rusentiment.head(10)"
   ],
   "metadata": {
    "collapsed": false,
    "pycharm": {
     "name": "#%%\n"
    }
   }
  },
  {
   "cell_type": "code",
   "execution_count": 33,
   "outputs": [
    {
     "data": {
      "text/plain": "neutral     8323\npositive    4635\nskip        3190\nspeech      2826\nnegative    2294\nName: label, dtype: int64"
     },
     "execution_count": 33,
     "metadata": {},
     "output_type": "execute_result"
    }
   ],
   "source": [
    "rusentiment.label.value_counts()"
   ],
   "metadata": {
    "collapsed": false,
    "pycharm": {
     "name": "#%%\n"
    }
   }
  },
  {
   "cell_type": "code",
   "execution_count": 34,
   "outputs": [],
   "source": [
    "rusentiment = rusentiment[rusentiment.label != 'speech']\n",
    "rusentiment = rusentiment[rusentiment.label != 'skip']"
   ],
   "metadata": {
    "collapsed": false,
    "pycharm": {
     "name": "#%%\n"
    }
   }
  },
  {
   "cell_type": "code",
   "execution_count": 35,
   "outputs": [
    {
     "data": {
      "text/plain": "neutral     8323\npositive    4635\nnegative    2294\nName: label, dtype: int64"
     },
     "execution_count": 35,
     "metadata": {},
     "output_type": "execute_result"
    }
   ],
   "source": [
    "rusentiment.label.value_counts()"
   ],
   "metadata": {
    "collapsed": false,
    "pycharm": {
     "name": "#%%\n"
    }
   }
  },
  {
   "cell_type": "code",
   "execution_count": 7,
   "outputs": [],
   "source": [
    "rutweet = pd.read_csv(DATA_PATH / 'raw' / 'sentiment' / 'ru-tweet-corp.csv', names=['text', 'label'], usecols=[4, 5])"
   ],
   "metadata": {
    "collapsed": false,
    "pycharm": {
     "name": "#%%\n"
    }
   }
  },
  {
   "cell_type": "code",
   "execution_count": 8,
   "outputs": [
    {
     "data": {
      "text/plain": "(226834, 2)"
     },
     "execution_count": 8,
     "metadata": {},
     "output_type": "execute_result"
    }
   ],
   "source": [
    "rutweet.shape"
   ],
   "metadata": {
    "collapsed": false,
    "pycharm": {
     "name": "#%%\n"
    }
   }
  },
  {
   "cell_type": "code",
   "execution_count": 39,
   "outputs": [
    {
     "data": {
      "text/plain": "                                                text  label\n0  @first_timee хоть я и школота, но поверь, у на...      1\n1  Да, все-таки он немного похож на него. Но мой ...      1\n2  RT @KatiaCheh: Ну ты идиотка) я испугалась за ...      1\n3  RT @digger2912: \"Кто то в углу сидит и погибае...      1\n4  @irina_dyshkant Вот что значит страшилка :D\\nН...      1\n5  ну любишь или нет? — Я не знаю кто ты бля:D ht...      1\n6  RT @SpoonLamer: Ох,900 :D ну это конечно же @t...      1\n7  RT @veregijytaqo: У тебя есть ухажёр? Нет - мо...      1\n8  Поприветствуем моего нового читателя @Alexey17...      1\n9  Теперь у меня есть частичка Сиднея :) #Sydney ...      1",
      "text/html": "<div>\n<style scoped>\n    .dataframe tbody tr th:only-of-type {\n        vertical-align: middle;\n    }\n\n    .dataframe tbody tr th {\n        vertical-align: top;\n    }\n\n    .dataframe thead th {\n        text-align: right;\n    }\n</style>\n<table border=\"1\" class=\"dataframe\">\n  <thead>\n    <tr style=\"text-align: right;\">\n      <th></th>\n      <th>text</th>\n      <th>label</th>\n    </tr>\n  </thead>\n  <tbody>\n    <tr>\n      <th>0</th>\n      <td>@first_timee хоть я и школота, но поверь, у на...</td>\n      <td>1</td>\n    </tr>\n    <tr>\n      <th>1</th>\n      <td>Да, все-таки он немного похож на него. Но мой ...</td>\n      <td>1</td>\n    </tr>\n    <tr>\n      <th>2</th>\n      <td>RT @KatiaCheh: Ну ты идиотка) я испугалась за ...</td>\n      <td>1</td>\n    </tr>\n    <tr>\n      <th>3</th>\n      <td>RT @digger2912: \"Кто то в углу сидит и погибае...</td>\n      <td>1</td>\n    </tr>\n    <tr>\n      <th>4</th>\n      <td>@irina_dyshkant Вот что значит страшилка :D\\nН...</td>\n      <td>1</td>\n    </tr>\n    <tr>\n      <th>5</th>\n      <td>ну любишь или нет? — Я не знаю кто ты бля:D ht...</td>\n      <td>1</td>\n    </tr>\n    <tr>\n      <th>6</th>\n      <td>RT @SpoonLamer: Ох,900 :D ну это конечно же @t...</td>\n      <td>1</td>\n    </tr>\n    <tr>\n      <th>7</th>\n      <td>RT @veregijytaqo: У тебя есть ухажёр? Нет - мо...</td>\n      <td>1</td>\n    </tr>\n    <tr>\n      <th>8</th>\n      <td>Поприветствуем моего нового читателя @Alexey17...</td>\n      <td>1</td>\n    </tr>\n    <tr>\n      <th>9</th>\n      <td>Теперь у меня есть частичка Сиднея :) #Sydney ...</td>\n      <td>1</td>\n    </tr>\n  </tbody>\n</table>\n</div>"
     },
     "execution_count": 39,
     "metadata": {},
     "output_type": "execute_result"
    }
   ],
   "source": [
    "rutweet.head(10)"
   ],
   "metadata": {
    "collapsed": false,
    "pycharm": {
     "name": "#%%\n"
    }
   }
  },
  {
   "cell_type": "code",
   "execution_count": 40,
   "outputs": [
    {
     "data": {
      "text/plain": " 1    114911\n-1    111923\nName: label, dtype: int64"
     },
     "execution_count": 40,
     "metadata": {},
     "output_type": "execute_result"
    }
   ],
   "source": [
    "rutweet.label.value_counts()"
   ],
   "metadata": {
    "collapsed": false,
    "pycharm": {
     "name": "#%%\n"
    }
   }
  },
  {
   "cell_type": "code",
   "execution_count": null,
   "outputs": [],
   "source": [
    "rutweet['label'].rename({-1: 2, 1: 1}, inplace=True)\n",
    "rusentiment['label'].rename({'negative': 2, 'positive': 1, 'neutral': 0}, inplace=True)"
   ],
   "metadata": {
    "collapsed": false,
    "pycharm": {
     "name": "#%%\n"
    }
   }
  },
  {
   "cell_type": "code",
   "execution_count": 45,
   "outputs": [],
   "source": [
    "predictions = []"
   ],
   "metadata": {
    "collapsed": false,
    "pycharm": {
     "name": "#%%\n"
    }
   }
  },
  {
   "cell_type": "code",
   "execution_count": null,
   "outputs": [
    {
     "data": {
      "text/plain": "  0%|          | 0/3544 [00:00<?, ?it/s]",
      "application/vnd.jupyter.widget-view+json": {
       "version_major": 2,
       "version_minor": 0,
       "model_id": "d145863e725147ccacd66cd0554047f3"
      }
     },
     "metadata": {},
     "output_type": "display_data"
    }
   ],
   "source": [
    "dataset = rutweet\n",
    "model = blanchefort\n",
    "# for dataset in [rusentiment, rutweet]:\n",
    "for batch in tqdm(gen_batches(len(dataset), 64), total=int(len(dataset) / 64)):\n",
    "    predictions.append(blanchefort.predict(dataset.text[batch].tolist()))\n"
   ],
   "metadata": {
    "collapsed": false,
    "pycharm": {
     "name": "#%%\n",
     "is_executing": true
    }
   }
  },
  {
   "cell_type": "code",
   "execution_count": null,
   "outputs": [],
   "source": [
    "y_pred = list(map(\n",
    "    lambda pr: list(model._grad.keys()).index(max(pr.items(), key=itemgetter(1))[0]),\n",
    "    flatten(predictions)\n",
    "))"
   ],
   "metadata": {
    "collapsed": false,
    "pycharm": {
     "name": "#%%\n"
    }
   }
  },
  {
   "cell_type": "code",
   "execution_count": null,
   "outputs": [],
   "source": [],
   "metadata": {
    "collapsed": false,
    "pycharm": {
     "name": "#%%\n"
    }
   }
  }
 ],
 "metadata": {
  "kernelspec": {
   "display_name": "Python 3",
   "language": "python",
   "name": "python3"
  },
  "language_info": {
   "codemirror_mode": {
    "name": "ipython",
    "version": 2
   },
   "file_extension": ".py",
   "mimetype": "text/x-python",
   "name": "python",
   "nbconvert_exporter": "python",
   "pygments_lexer": "ipython2",
   "version": "2.7.6"
  }
 },
 "nbformat": 4,
 "nbformat_minor": 0
}