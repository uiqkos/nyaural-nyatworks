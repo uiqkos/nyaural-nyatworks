{
 "cells": [
  {
   "cell_type": "code",
   "execution_count": 1,
   "metadata": {
    "collapsed": true
   },
   "outputs": [
    {
     "name": "stderr",
     "output_type": "stream",
     "text": [
      "2021-12-01 12:57:57.693497: W tensorflow/stream_executor/platform/default/dso_loader.cc:64] Could not load dynamic library 'libcudart.so.11.0'; dlerror: libcudart.so.11.0: cannot open shared object file: No such file or directory\n",
      "2021-12-01 12:57:57.693520: I tensorflow/stream_executor/cuda/cudart_stub.cc:29] Ignore above cudart dlerror if you do not have a GPU set up on your machine.\n"
     ]
    }
   ],
   "source": [
    "from typing import Union, List\n",
    "\n",
    "from tensorflow.keras import Sequential\n",
    "from tensorflow.keras.optimizers import Optimizer\n",
    "import tensorflow.keras.optimizers as optimizers\n",
    "from tensorflow.keras.preprocessing.text import tokenizer_from_json\n",
    "from tensorflow.keras.layers import InputLayer, Dense, Dropout, Embedding\n",
    "from gensim.models import Word2Vec\n",
    "\n",
    "import keras_tuner as kt\n",
    "import numpy as np\n",
    "import pandas as pd"
   ]
  },
  {
   "cell_type": "markdown",
   "source": [
    "## Load data"
   ],
   "metadata": {
    "collapsed": false,
    "pycharm": {
     "name": "#%% md\n"
    }
   }
  },
  {
   "cell_type": "code",
   "execution_count": 2,
   "outputs": [],
   "source": [
    "X_train = pd.read_csv('../data/prepared_train.csv')\n",
    "Y_train = pd.read_csv('../data/train.csv', header=0, index_col=0)\n",
    "Y_train.drop('comment_text', inplace=True, axis=1)\n",
    "X_test = np.fromfile('../data/prepared_test.csv')"
   ],
   "metadata": {
    "collapsed": false,
    "pycharm": {
     "name": "#%%\n"
    }
   }
  },
  {
   "cell_type": "code",
   "execution_count": 3,
   "outputs": [
    {
     "data": {
      "text/plain": "(159570, 2142)"
     },
     "execution_count": 3,
     "metadata": {},
     "output_type": "execute_result"
    }
   ],
   "source": [
    "X_train.shape"
   ],
   "metadata": {
    "collapsed": false,
    "pycharm": {
     "name": "#%%\n"
    }
   }
  },
  {
   "cell_type": "code",
   "execution_count": 4,
   "outputs": [],
   "source": [
    "\n",
    "def choice_dict(name, hp: kt.HyperParameters, **options):\n",
    "    return options[hp.Choice(name, options.keys())]\n",
    "\n",
    "def choice_list(name, hp: kt.HyperParameters, *options):\n",
    "    return options[hp.Int(name + '_index', 0, len(options) - 1)]\n"
   ],
   "metadata": {
    "collapsed": false,
    "pycharm": {
     "name": "#%%\n"
    }
   }
  },
  {
   "cell_type": "code",
   "execution_count": 5,
   "outputs": [],
   "source": [
    "input_shape = (None, X_train.shape[1])\n",
    "output_shape = (1, 5)"
   ],
   "metadata": {
    "collapsed": false,
    "pycharm": {
     "name": "#%%\n"
    }
   }
  },
  {
   "cell_type": "code",
   "execution_count": 7,
   "outputs": [],
   "source": [
    "\n",
    "def build_model(\n",
    "    w2v: Word2Vec,\n",
    "    hidden_layers: int,\n",
    "    hidden_layers_units: List[int],\n",
    "    use_bias: bool,\n",
    "    dropout: float,\n",
    "    optimizer: Union[str, Optimizer],\n",
    "\n",
    "):\n",
    "    model = Sequential()\n",
    "\n",
    "    model.add(\n",
    "        Embedding(\n",
    "            input_dim=len(w2v.wv),\n",
    "            output_dim=w2v.vector_size,\n",
    "            weights=w2v.wv.vectors\n",
    "        )\n",
    "    )\n",
    "\n",
    "    for layer_index in range(hidden_layers):\n",
    "        model.add(\n",
    "            Dense(\n",
    "                units=hidden_layers_units[layer_index],\n",
    "                activation='relu',\n",
    "                use_bias=use_bias\n",
    "            )\n",
    "        )\n",
    "\n",
    "        if dropout != 0:\n",
    "            model.add(\n",
    "                Dropout(dropout)\n",
    "            )\n",
    "\n",
    "    model.add(\n",
    "        Dense(\n",
    "            units=output_shape[1],\n",
    "            activation='sigmoid'\n",
    "        )\n",
    "    )\n",
    "\n",
    "    model.compile(\n",
    "        optimizer=optimizer,\n",
    "        loss='binary_crossentropy',\n",
    "        metrics=['accuracy']\n",
    "    )\n",
    "\n",
    "    return model\n",
    "\n",
    "def build_model_from_hp(hp: kt.HyperParameters):\n",
    "    return build_model(\n",
    "        w2v=choice_dict(\n",
    "            name='w2v', hp=hp,\n",
    "            light=Word2Vec.load('light_word2vec.model'),\n",
    "            heavy=Word2Vec.load('heavy_word2vec.model')\n",
    "        ),\n",
    "        hidden_layers=hp.Int('hidden_layers', 2, 10),\n",
    "        hidden_layers_units=choice_list(\n",
    "            'hidden_layers_units', hp,\n",
    "            np.linspace(100, 10, 9, dtype=np.dtype('int64')),\n",
    "            np.linspace(1000, 50, 9, dtype=np.dtype('int64')),\n",
    "            np.linspace(1000, 50, 9, dtype=np.dtype('int64')),\n",
    "            np.linspace(2000, 100, 9, dtype=np.dtype('int64')),\n",
    "        ),\n",
    "        use_bias=hp.Boolean('use_bias'),\n",
    "        dropout=hp.Choice('dropout', [0., 0.3, 0.5]),\n",
    "        optimizer=hp.Choice('optimizer', ['sgd', 'adam']),\n",
    "    )\n"
   ],
   "metadata": {
    "collapsed": false,
    "pycharm": {
     "name": "#%%\n"
    }
   }
  },
  {
   "cell_type": "code",
   "execution_count": 8,
   "outputs": [
    {
     "name": "stderr",
     "output_type": "stream",
     "text": [
      "Traceback (most recent call last):\n",
      "  File \"/home/uiqkos/pyenvs/mint/lib/python3.9/site-packages/keras_tuner/engine/hypermodel.py\", line 127, in build\n",
      "    model = self.hypermodel.build(hp)\n",
      "  File \"/tmp/ipykernel_9540/1337214513.py\", line 53, in build_model_from_hp\n",
      "    light=Word2Vec.load('light_word2vec.model'),\n",
      "  File \"/home/uiqkos/pyenvs/mint/lib/python3.9/site-packages/gensim/models/word2vec.py\", line 1930, in load\n",
      "    model = super(Word2Vec, cls).load(*args, **kwargs)\n",
      "  File \"/home/uiqkos/pyenvs/mint/lib/python3.9/site-packages/gensim/utils.py\", line 485, in load\n",
      "    obj = unpickle(fname)\n",
      "  File \"/home/uiqkos/pyenvs/mint/lib/python3.9/site-packages/gensim/utils.py\", line 1459, in unpickle\n",
      "    with open(fname, 'rb') as f:\n",
      "  File \"/home/uiqkos/pyenvs/mint/lib/python3.9/site-packages/smart_open/smart_open_lib.py\", line 188, in open\n",
      "    fobj = _shortcut_open(\n",
      "  File \"/home/uiqkos/pyenvs/mint/lib/python3.9/site-packages/smart_open/smart_open_lib.py\", line 361, in _shortcut_open\n",
      "    return _builtin_open(local_path, mode, buffering=buffering, **open_kwargs)\n",
      "FileNotFoundError: [Errno 2] No such file or directory: 'light_word2vec.model'\n",
      "Traceback (most recent call last):\n",
      "  File \"/home/uiqkos/pyenvs/mint/lib/python3.9/site-packages/keras_tuner/engine/hypermodel.py\", line 127, in build\n",
      "    model = self.hypermodel.build(hp)\n",
      "  File \"/tmp/ipykernel_9540/1337214513.py\", line 53, in build_model_from_hp\n",
      "    light=Word2Vec.load('light_word2vec.model'),\n",
      "  File \"/home/uiqkos/pyenvs/mint/lib/python3.9/site-packages/gensim/models/word2vec.py\", line 1930, in load\n",
      "    model = super(Word2Vec, cls).load(*args, **kwargs)\n",
      "  File \"/home/uiqkos/pyenvs/mint/lib/python3.9/site-packages/gensim/utils.py\", line 485, in load\n",
      "    obj = unpickle(fname)\n",
      "  File \"/home/uiqkos/pyenvs/mint/lib/python3.9/site-packages/gensim/utils.py\", line 1459, in unpickle\n",
      "    with open(fname, 'rb') as f:\n",
      "  File \"/home/uiqkos/pyenvs/mint/lib/python3.9/site-packages/smart_open/smart_open_lib.py\", line 188, in open\n",
      "    fobj = _shortcut_open(\n",
      "  File \"/home/uiqkos/pyenvs/mint/lib/python3.9/site-packages/smart_open/smart_open_lib.py\", line 361, in _shortcut_open\n",
      "    return _builtin_open(local_path, mode, buffering=buffering, **open_kwargs)\n",
      "FileNotFoundError: [Errno 2] No such file or directory: 'light_word2vec.model'\n",
      "Traceback (most recent call last):\n",
      "  File \"/home/uiqkos/pyenvs/mint/lib/python3.9/site-packages/keras_tuner/engine/hypermodel.py\", line 127, in build\n",
      "    model = self.hypermodel.build(hp)\n",
      "  File \"/tmp/ipykernel_9540/1337214513.py\", line 53, in build_model_from_hp\n",
      "    light=Word2Vec.load('light_word2vec.model'),\n",
      "  File \"/home/uiqkos/pyenvs/mint/lib/python3.9/site-packages/gensim/models/word2vec.py\", line 1930, in load\n",
      "    model = super(Word2Vec, cls).load(*args, **kwargs)\n",
      "  File \"/home/uiqkos/pyenvs/mint/lib/python3.9/site-packages/gensim/utils.py\", line 485, in load\n",
      "    obj = unpickle(fname)\n",
      "  File \"/home/uiqkos/pyenvs/mint/lib/python3.9/site-packages/gensim/utils.py\", line 1459, in unpickle\n",
      "    with open(fname, 'rb') as f:\n",
      "  File \"/home/uiqkos/pyenvs/mint/lib/python3.9/site-packages/smart_open/smart_open_lib.py\", line 188, in open\n",
      "    fobj = _shortcut_open(\n",
      "  File \"/home/uiqkos/pyenvs/mint/lib/python3.9/site-packages/smart_open/smart_open_lib.py\", line 361, in _shortcut_open\n",
      "    return _builtin_open(local_path, mode, buffering=buffering, **open_kwargs)\n",
      "FileNotFoundError: [Errno 2] No such file or directory: 'light_word2vec.model'\n"
     ]
    },
    {
     "name": "stdout",
     "output_type": "stream",
     "text": [
      "Invalid model 0/5\n",
      "Invalid model 1/5\n",
      "Invalid model 2/5\n",
      "Invalid model 3/5\n",
      "Invalid model 4/5\n",
      "Invalid model 5/5\n"
     ]
    },
    {
     "name": "stderr",
     "output_type": "stream",
     "text": [
      "Traceback (most recent call last):\n",
      "  File \"/home/uiqkos/pyenvs/mint/lib/python3.9/site-packages/keras_tuner/engine/hypermodel.py\", line 127, in build\n",
      "    model = self.hypermodel.build(hp)\n",
      "  File \"/tmp/ipykernel_9540/1337214513.py\", line 53, in build_model_from_hp\n",
      "    light=Word2Vec.load('light_word2vec.model'),\n",
      "  File \"/home/uiqkos/pyenvs/mint/lib/python3.9/site-packages/gensim/models/word2vec.py\", line 1930, in load\n",
      "    model = super(Word2Vec, cls).load(*args, **kwargs)\n",
      "  File \"/home/uiqkos/pyenvs/mint/lib/python3.9/site-packages/gensim/utils.py\", line 485, in load\n",
      "    obj = unpickle(fname)\n",
      "  File \"/home/uiqkos/pyenvs/mint/lib/python3.9/site-packages/gensim/utils.py\", line 1459, in unpickle\n",
      "    with open(fname, 'rb') as f:\n",
      "  File \"/home/uiqkos/pyenvs/mint/lib/python3.9/site-packages/smart_open/smart_open_lib.py\", line 188, in open\n",
      "    fobj = _shortcut_open(\n",
      "  File \"/home/uiqkos/pyenvs/mint/lib/python3.9/site-packages/smart_open/smart_open_lib.py\", line 361, in _shortcut_open\n",
      "    return _builtin_open(local_path, mode, buffering=buffering, **open_kwargs)\n",
      "FileNotFoundError: [Errno 2] No such file or directory: 'light_word2vec.model'\n",
      "Traceback (most recent call last):\n",
      "  File \"/home/uiqkos/pyenvs/mint/lib/python3.9/site-packages/keras_tuner/engine/hypermodel.py\", line 127, in build\n",
      "    model = self.hypermodel.build(hp)\n",
      "  File \"/tmp/ipykernel_9540/1337214513.py\", line 53, in build_model_from_hp\n",
      "    light=Word2Vec.load('light_word2vec.model'),\n",
      "  File \"/home/uiqkos/pyenvs/mint/lib/python3.9/site-packages/gensim/models/word2vec.py\", line 1930, in load\n",
      "    model = super(Word2Vec, cls).load(*args, **kwargs)\n",
      "  File \"/home/uiqkos/pyenvs/mint/lib/python3.9/site-packages/gensim/utils.py\", line 485, in load\n",
      "    obj = unpickle(fname)\n",
      "  File \"/home/uiqkos/pyenvs/mint/lib/python3.9/site-packages/gensim/utils.py\", line 1459, in unpickle\n",
      "    with open(fname, 'rb') as f:\n",
      "  File \"/home/uiqkos/pyenvs/mint/lib/python3.9/site-packages/smart_open/smart_open_lib.py\", line 188, in open\n",
      "    fobj = _shortcut_open(\n",
      "  File \"/home/uiqkos/pyenvs/mint/lib/python3.9/site-packages/smart_open/smart_open_lib.py\", line 361, in _shortcut_open\n",
      "    return _builtin_open(local_path, mode, buffering=buffering, **open_kwargs)\n",
      "FileNotFoundError: [Errno 2] No such file or directory: 'light_word2vec.model'\n",
      "Traceback (most recent call last):\n",
      "  File \"/home/uiqkos/pyenvs/mint/lib/python3.9/site-packages/keras_tuner/engine/hypermodel.py\", line 127, in build\n",
      "    model = self.hypermodel.build(hp)\n",
      "  File \"/tmp/ipykernel_9540/1337214513.py\", line 53, in build_model_from_hp\n",
      "    light=Word2Vec.load('light_word2vec.model'),\n",
      "  File \"/home/uiqkos/pyenvs/mint/lib/python3.9/site-packages/gensim/models/word2vec.py\", line 1930, in load\n",
      "    model = super(Word2Vec, cls).load(*args, **kwargs)\n",
      "  File \"/home/uiqkos/pyenvs/mint/lib/python3.9/site-packages/gensim/utils.py\", line 485, in load\n",
      "    obj = unpickle(fname)\n",
      "  File \"/home/uiqkos/pyenvs/mint/lib/python3.9/site-packages/gensim/utils.py\", line 1459, in unpickle\n",
      "    with open(fname, 'rb') as f:\n",
      "  File \"/home/uiqkos/pyenvs/mint/lib/python3.9/site-packages/smart_open/smart_open_lib.py\", line 188, in open\n",
      "    fobj = _shortcut_open(\n",
      "  File \"/home/uiqkos/pyenvs/mint/lib/python3.9/site-packages/smart_open/smart_open_lib.py\", line 361, in _shortcut_open\n",
      "    return _builtin_open(local_path, mode, buffering=buffering, **open_kwargs)\n",
      "FileNotFoundError: [Errno 2] No such file or directory: 'light_word2vec.model'\n"
     ]
    },
    {
     "ename": "RuntimeError",
     "evalue": "Too many failed attempts to build model.",
     "output_type": "error",
     "traceback": [
      "\u001B[0;31m---------------------------------------------------------------------------\u001B[0m",
      "\u001B[0;31mFileNotFoundError\u001B[0m                         Traceback (most recent call last)",
      "\u001B[0;32m~/pyenvs/mint/lib/python3.9/site-packages/keras_tuner/engine/hypermodel.py\u001B[0m in \u001B[0;36mbuild\u001B[0;34m(self, hp)\u001B[0m\n\u001B[1;32m    126\u001B[0m                 \u001B[0;32mwith\u001B[0m \u001B[0mmaybe_distribute\u001B[0m\u001B[0;34m(\u001B[0m\u001B[0mself\u001B[0m\u001B[0;34m.\u001B[0m\u001B[0mdistribution_strategy\u001B[0m\u001B[0;34m)\u001B[0m\u001B[0;34m:\u001B[0m\u001B[0;34m\u001B[0m\u001B[0;34m\u001B[0m\u001B[0m\n\u001B[0;32m--> 127\u001B[0;31m                     \u001B[0mmodel\u001B[0m \u001B[0;34m=\u001B[0m \u001B[0mself\u001B[0m\u001B[0;34m.\u001B[0m\u001B[0mhypermodel\u001B[0m\u001B[0;34m.\u001B[0m\u001B[0mbuild\u001B[0m\u001B[0;34m(\u001B[0m\u001B[0mhp\u001B[0m\u001B[0;34m)\u001B[0m\u001B[0;34m\u001B[0m\u001B[0;34m\u001B[0m\u001B[0m\n\u001B[0m\u001B[1;32m    128\u001B[0m             \u001B[0;32mexcept\u001B[0m\u001B[0;34m:\u001B[0m\u001B[0;34m\u001B[0m\u001B[0;34m\u001B[0m\u001B[0m\n",
      "\u001B[0;32m/tmp/ipykernel_9540/1337214513.py\u001B[0m in \u001B[0;36mbuild_model_from_hp\u001B[0;34m(hp)\u001B[0m\n\u001B[1;32m     52\u001B[0m             \u001B[0mname\u001B[0m\u001B[0;34m=\u001B[0m\u001B[0;34m'w2v'\u001B[0m\u001B[0;34m,\u001B[0m \u001B[0mhp\u001B[0m\u001B[0;34m=\u001B[0m\u001B[0mhp\u001B[0m\u001B[0;34m,\u001B[0m\u001B[0;34m\u001B[0m\u001B[0;34m\u001B[0m\u001B[0m\n\u001B[0;32m---> 53\u001B[0;31m             \u001B[0mlight\u001B[0m\u001B[0;34m=\u001B[0m\u001B[0mWord2Vec\u001B[0m\u001B[0;34m.\u001B[0m\u001B[0mload\u001B[0m\u001B[0;34m(\u001B[0m\u001B[0;34m'light_word2vec.model'\u001B[0m\u001B[0;34m)\u001B[0m\u001B[0;34m,\u001B[0m\u001B[0;34m\u001B[0m\u001B[0;34m\u001B[0m\u001B[0m\n\u001B[0m\u001B[1;32m     54\u001B[0m             \u001B[0mheavy\u001B[0m\u001B[0;34m=\u001B[0m\u001B[0mWord2Vec\u001B[0m\u001B[0;34m.\u001B[0m\u001B[0mload\u001B[0m\u001B[0;34m(\u001B[0m\u001B[0;34m'heavy_word2vec.model'\u001B[0m\u001B[0;34m)\u001B[0m\u001B[0;34m\u001B[0m\u001B[0;34m\u001B[0m\u001B[0m\n",
      "\u001B[0;32m~/pyenvs/mint/lib/python3.9/site-packages/gensim/models/word2vec.py\u001B[0m in \u001B[0;36mload\u001B[0;34m(cls, rethrow, *args, **kwargs)\u001B[0m\n\u001B[1;32m   1929\u001B[0m         \u001B[0;32mtry\u001B[0m\u001B[0;34m:\u001B[0m\u001B[0;34m\u001B[0m\u001B[0;34m\u001B[0m\u001B[0m\n\u001B[0;32m-> 1930\u001B[0;31m             \u001B[0mmodel\u001B[0m \u001B[0;34m=\u001B[0m \u001B[0msuper\u001B[0m\u001B[0;34m(\u001B[0m\u001B[0mWord2Vec\u001B[0m\u001B[0;34m,\u001B[0m \u001B[0mcls\u001B[0m\u001B[0;34m)\u001B[0m\u001B[0;34m.\u001B[0m\u001B[0mload\u001B[0m\u001B[0;34m(\u001B[0m\u001B[0;34m*\u001B[0m\u001B[0margs\u001B[0m\u001B[0;34m,\u001B[0m \u001B[0;34m**\u001B[0m\u001B[0mkwargs\u001B[0m\u001B[0;34m)\u001B[0m\u001B[0;34m\u001B[0m\u001B[0;34m\u001B[0m\u001B[0m\n\u001B[0m\u001B[1;32m   1931\u001B[0m             \u001B[0;32mif\u001B[0m \u001B[0;32mnot\u001B[0m \u001B[0misinstance\u001B[0m\u001B[0;34m(\u001B[0m\u001B[0mmodel\u001B[0m\u001B[0;34m,\u001B[0m \u001B[0mWord2Vec\u001B[0m\u001B[0;34m)\u001B[0m\u001B[0;34m:\u001B[0m\u001B[0;34m\u001B[0m\u001B[0;34m\u001B[0m\u001B[0m\n",
      "\u001B[0;32m~/pyenvs/mint/lib/python3.9/site-packages/gensim/utils.py\u001B[0m in \u001B[0;36mload\u001B[0;34m(cls, fname, mmap)\u001B[0m\n\u001B[1;32m    484\u001B[0m \u001B[0;34m\u001B[0m\u001B[0m\n\u001B[0;32m--> 485\u001B[0;31m         \u001B[0mobj\u001B[0m \u001B[0;34m=\u001B[0m \u001B[0munpickle\u001B[0m\u001B[0;34m(\u001B[0m\u001B[0mfname\u001B[0m\u001B[0;34m)\u001B[0m\u001B[0;34m\u001B[0m\u001B[0;34m\u001B[0m\u001B[0m\n\u001B[0m\u001B[1;32m    486\u001B[0m         \u001B[0mobj\u001B[0m\u001B[0;34m.\u001B[0m\u001B[0m_load_specials\u001B[0m\u001B[0;34m(\u001B[0m\u001B[0mfname\u001B[0m\u001B[0;34m,\u001B[0m \u001B[0mmmap\u001B[0m\u001B[0;34m,\u001B[0m \u001B[0mcompress\u001B[0m\u001B[0;34m,\u001B[0m \u001B[0msubname\u001B[0m\u001B[0;34m)\u001B[0m\u001B[0;34m\u001B[0m\u001B[0;34m\u001B[0m\u001B[0m\n",
      "\u001B[0;32m~/pyenvs/mint/lib/python3.9/site-packages/gensim/utils.py\u001B[0m in \u001B[0;36munpickle\u001B[0;34m(fname)\u001B[0m\n\u001B[1;32m   1458\u001B[0m     \"\"\"\n\u001B[0;32m-> 1459\u001B[0;31m     \u001B[0;32mwith\u001B[0m \u001B[0mopen\u001B[0m\u001B[0;34m(\u001B[0m\u001B[0mfname\u001B[0m\u001B[0;34m,\u001B[0m \u001B[0;34m'rb'\u001B[0m\u001B[0;34m)\u001B[0m \u001B[0;32mas\u001B[0m \u001B[0mf\u001B[0m\u001B[0;34m:\u001B[0m\u001B[0;34m\u001B[0m\u001B[0;34m\u001B[0m\u001B[0m\n\u001B[0m\u001B[1;32m   1460\u001B[0m         \u001B[0;32mreturn\u001B[0m \u001B[0m_pickle\u001B[0m\u001B[0;34m.\u001B[0m\u001B[0mload\u001B[0m\u001B[0;34m(\u001B[0m\u001B[0mf\u001B[0m\u001B[0;34m,\u001B[0m \u001B[0mencoding\u001B[0m\u001B[0;34m=\u001B[0m\u001B[0;34m'latin1'\u001B[0m\u001B[0;34m)\u001B[0m  \u001B[0;31m# needed because loading from S3 doesn't support readline()\u001B[0m\u001B[0;34m\u001B[0m\u001B[0;34m\u001B[0m\u001B[0m\n",
      "\u001B[0;32m~/pyenvs/mint/lib/python3.9/site-packages/smart_open/smart_open_lib.py\u001B[0m in \u001B[0;36mopen\u001B[0;34m(uri, mode, buffering, encoding, errors, newline, closefd, opener, ignore_ext, compression, transport_params)\u001B[0m\n\u001B[1;32m    187\u001B[0m \u001B[0;34m\u001B[0m\u001B[0m\n\u001B[0;32m--> 188\u001B[0;31m     fobj = _shortcut_open(\n\u001B[0m\u001B[1;32m    189\u001B[0m         \u001B[0muri\u001B[0m\u001B[0;34m,\u001B[0m\u001B[0;34m\u001B[0m\u001B[0;34m\u001B[0m\u001B[0m\n",
      "\u001B[0;32m~/pyenvs/mint/lib/python3.9/site-packages/smart_open/smart_open_lib.py\u001B[0m in \u001B[0;36m_shortcut_open\u001B[0;34m(uri, mode, compression, buffering, encoding, errors, newline)\u001B[0m\n\u001B[1;32m    360\u001B[0m \u001B[0;34m\u001B[0m\u001B[0m\n\u001B[0;32m--> 361\u001B[0;31m     \u001B[0;32mreturn\u001B[0m \u001B[0m_builtin_open\u001B[0m\u001B[0;34m(\u001B[0m\u001B[0mlocal_path\u001B[0m\u001B[0;34m,\u001B[0m \u001B[0mmode\u001B[0m\u001B[0;34m,\u001B[0m \u001B[0mbuffering\u001B[0m\u001B[0;34m=\u001B[0m\u001B[0mbuffering\u001B[0m\u001B[0;34m,\u001B[0m \u001B[0;34m**\u001B[0m\u001B[0mopen_kwargs\u001B[0m\u001B[0;34m)\u001B[0m\u001B[0;34m\u001B[0m\u001B[0;34m\u001B[0m\u001B[0m\n\u001B[0m\u001B[1;32m    362\u001B[0m \u001B[0;34m\u001B[0m\u001B[0m\n",
      "\u001B[0;31mFileNotFoundError\u001B[0m: [Errno 2] No such file or directory: 'light_word2vec.model'",
      "\nDuring handling of the above exception, another exception occurred:\n",
      "\u001B[0;31mRuntimeError\u001B[0m                              Traceback (most recent call last)",
      "\u001B[0;32m/tmp/ipykernel_9540/2429340192.py\u001B[0m in \u001B[0;36m<module>\u001B[0;34m\u001B[0m\n\u001B[0;32m----> 1\u001B[0;31m tuner = kt.RandomSearch(\n\u001B[0m\u001B[1;32m      2\u001B[0m     \u001B[0mbuild_model_from_hp\u001B[0m\u001B[0;34m,\u001B[0m\u001B[0;34m\u001B[0m\u001B[0;34m\u001B[0m\u001B[0m\n\u001B[1;32m      3\u001B[0m     \u001B[0mobjective\u001B[0m\u001B[0;34m=\u001B[0m\u001B[0;34m'val_loss'\u001B[0m\u001B[0;34m,\u001B[0m\u001B[0;34m\u001B[0m\u001B[0;34m\u001B[0m\u001B[0m\n\u001B[1;32m      4\u001B[0m     \u001B[0mmax_trials\u001B[0m\u001B[0;34m=\u001B[0m\u001B[0;36m5\u001B[0m\u001B[0;34m\u001B[0m\u001B[0;34m\u001B[0m\u001B[0m\n\u001B[1;32m      5\u001B[0m )\n",
      "\u001B[0;32m~/pyenvs/mint/lib/python3.9/site-packages/keras_tuner/tuners/randomsearch.py\u001B[0m in \u001B[0;36m__init__\u001B[0;34m(self, hypermodel, objective, max_trials, seed, hyperparameters, tune_new_entries, allow_new_entries, **kwargs)\u001B[0m\n\u001B[1;32m    132\u001B[0m             \u001B[0mallow_new_entries\u001B[0m\u001B[0;34m=\u001B[0m\u001B[0mallow_new_entries\u001B[0m\u001B[0;34m,\u001B[0m\u001B[0;34m\u001B[0m\u001B[0;34m\u001B[0m\u001B[0m\n\u001B[1;32m    133\u001B[0m         )\n\u001B[0;32m--> 134\u001B[0;31m         \u001B[0msuper\u001B[0m\u001B[0;34m(\u001B[0m\u001B[0mRandomSearch\u001B[0m\u001B[0;34m,\u001B[0m \u001B[0mself\u001B[0m\u001B[0;34m)\u001B[0m\u001B[0;34m.\u001B[0m\u001B[0m__init__\u001B[0m\u001B[0;34m(\u001B[0m\u001B[0moracle\u001B[0m\u001B[0;34m,\u001B[0m \u001B[0mhypermodel\u001B[0m\u001B[0;34m,\u001B[0m \u001B[0;34m**\u001B[0m\u001B[0mkwargs\u001B[0m\u001B[0;34m)\u001B[0m\u001B[0;34m\u001B[0m\u001B[0;34m\u001B[0m\u001B[0m\n\u001B[0m",
      "\u001B[0;32m~/pyenvs/mint/lib/python3.9/site-packages/keras_tuner/engine/multi_execution_tuner.py\u001B[0m in \u001B[0;36m__init__\u001B[0;34m(self, oracle, hypermodel, executions_per_trial, **kwargs)\u001B[0m\n\u001B[1;32m     49\u001B[0m \u001B[0;34m\u001B[0m\u001B[0m\n\u001B[1;32m     50\u001B[0m     \u001B[0;32mdef\u001B[0m \u001B[0m__init__\u001B[0m\u001B[0;34m(\u001B[0m\u001B[0mself\u001B[0m\u001B[0;34m,\u001B[0m \u001B[0moracle\u001B[0m\u001B[0;34m,\u001B[0m \u001B[0mhypermodel\u001B[0m\u001B[0;34m,\u001B[0m \u001B[0mexecutions_per_trial\u001B[0m\u001B[0;34m=\u001B[0m\u001B[0;36m1\u001B[0m\u001B[0;34m,\u001B[0m \u001B[0;34m**\u001B[0m\u001B[0mkwargs\u001B[0m\u001B[0;34m)\u001B[0m\u001B[0;34m:\u001B[0m\u001B[0;34m\u001B[0m\u001B[0;34m\u001B[0m\u001B[0m\n\u001B[0;32m---> 51\u001B[0;31m         \u001B[0msuper\u001B[0m\u001B[0;34m(\u001B[0m\u001B[0mMultiExecutionTuner\u001B[0m\u001B[0;34m,\u001B[0m \u001B[0mself\u001B[0m\u001B[0;34m)\u001B[0m\u001B[0;34m.\u001B[0m\u001B[0m__init__\u001B[0m\u001B[0;34m(\u001B[0m\u001B[0moracle\u001B[0m\u001B[0;34m,\u001B[0m \u001B[0mhypermodel\u001B[0m\u001B[0;34m,\u001B[0m \u001B[0;34m**\u001B[0m\u001B[0mkwargs\u001B[0m\u001B[0;34m)\u001B[0m\u001B[0;34m\u001B[0m\u001B[0;34m\u001B[0m\u001B[0m\n\u001B[0m\u001B[1;32m     52\u001B[0m         \u001B[0;32mif\u001B[0m \u001B[0misinstance\u001B[0m\u001B[0;34m(\u001B[0m\u001B[0moracle\u001B[0m\u001B[0;34m.\u001B[0m\u001B[0mobjective\u001B[0m\u001B[0;34m,\u001B[0m \u001B[0mlist\u001B[0m\u001B[0;34m)\u001B[0m\u001B[0;34m:\u001B[0m\u001B[0;34m\u001B[0m\u001B[0;34m\u001B[0m\u001B[0m\n\u001B[1;32m     53\u001B[0m             raise ValueError(\n",
      "\u001B[0;32m~/pyenvs/mint/lib/python3.9/site-packages/keras_tuner/engine/tuner.py\u001B[0m in \u001B[0;36m__init__\u001B[0;34m(self, oracle, hypermodel, max_model_size, optimizer, loss, metrics, distribution_strategy, directory, project_name, logger, tuner_id, overwrite)\u001B[0m\n\u001B[1;32m    100\u001B[0m             )\n\u001B[1;32m    101\u001B[0m \u001B[0;34m\u001B[0m\u001B[0m\n\u001B[0;32m--> 102\u001B[0;31m         super(Tuner, self).__init__(\n\u001B[0m\u001B[1;32m    103\u001B[0m             \u001B[0moracle\u001B[0m\u001B[0;34m=\u001B[0m\u001B[0moracle\u001B[0m\u001B[0;34m,\u001B[0m\u001B[0;34m\u001B[0m\u001B[0;34m\u001B[0m\u001B[0m\n\u001B[1;32m    104\u001B[0m             \u001B[0mhypermodel\u001B[0m\u001B[0;34m=\u001B[0m\u001B[0mhypermodel\u001B[0m\u001B[0;34m,\u001B[0m\u001B[0;34m\u001B[0m\u001B[0;34m\u001B[0m\u001B[0m\n",
      "\u001B[0;32m~/pyenvs/mint/lib/python3.9/site-packages/keras_tuner/engine/base_tuner.py\u001B[0m in \u001B[0;36m__init__\u001B[0;34m(self, oracle, hypermodel, directory, project_name, logger, overwrite)\u001B[0m\n\u001B[1;32m    100\u001B[0m         \u001B[0mself\u001B[0m\u001B[0;34m.\u001B[0m\u001B[0m_display\u001B[0m \u001B[0;34m=\u001B[0m \u001B[0mtuner_utils\u001B[0m\u001B[0;34m.\u001B[0m\u001B[0mDisplay\u001B[0m\u001B[0;34m(\u001B[0m\u001B[0moracle\u001B[0m\u001B[0;34m=\u001B[0m\u001B[0mself\u001B[0m\u001B[0;34m.\u001B[0m\u001B[0moracle\u001B[0m\u001B[0;34m)\u001B[0m\u001B[0;34m\u001B[0m\u001B[0;34m\u001B[0m\u001B[0m\n\u001B[1;32m    101\u001B[0m \u001B[0;34m\u001B[0m\u001B[0m\n\u001B[0;32m--> 102\u001B[0;31m         \u001B[0mself\u001B[0m\u001B[0;34m.\u001B[0m\u001B[0m_populate_initial_space\u001B[0m\u001B[0;34m(\u001B[0m\u001B[0;34m)\u001B[0m\u001B[0;34m\u001B[0m\u001B[0;34m\u001B[0m\u001B[0m\n\u001B[0m\u001B[1;32m    103\u001B[0m \u001B[0;34m\u001B[0m\u001B[0m\n\u001B[1;32m    104\u001B[0m         \u001B[0;32mif\u001B[0m \u001B[0;32mnot\u001B[0m \u001B[0moverwrite\u001B[0m \u001B[0;32mand\u001B[0m \u001B[0mtf\u001B[0m\u001B[0;34m.\u001B[0m\u001B[0mio\u001B[0m\u001B[0;34m.\u001B[0m\u001B[0mgfile\u001B[0m\u001B[0;34m.\u001B[0m\u001B[0mexists\u001B[0m\u001B[0;34m(\u001B[0m\u001B[0mself\u001B[0m\u001B[0;34m.\u001B[0m\u001B[0m_get_tuner_fname\u001B[0m\u001B[0;34m(\u001B[0m\u001B[0;34m)\u001B[0m\u001B[0;34m)\u001B[0m\u001B[0;34m:\u001B[0m\u001B[0;34m\u001B[0m\u001B[0;34m\u001B[0m\u001B[0m\n",
      "\u001B[0;32m~/pyenvs/mint/lib/python3.9/site-packages/keras_tuner/engine/base_tuner.py\u001B[0m in \u001B[0;36m_populate_initial_space\u001B[0;34m(self)\u001B[0m\n\u001B[1;32m    116\u001B[0m         \"\"\"\n\u001B[1;32m    117\u001B[0m         \u001B[0mhp\u001B[0m \u001B[0;34m=\u001B[0m \u001B[0mself\u001B[0m\u001B[0;34m.\u001B[0m\u001B[0moracle\u001B[0m\u001B[0;34m.\u001B[0m\u001B[0mget_space\u001B[0m\u001B[0;34m(\u001B[0m\u001B[0;34m)\u001B[0m\u001B[0;34m\u001B[0m\u001B[0;34m\u001B[0m\u001B[0m\n\u001B[0;32m--> 118\u001B[0;31m         \u001B[0mself\u001B[0m\u001B[0;34m.\u001B[0m\u001B[0mhypermodel\u001B[0m\u001B[0;34m.\u001B[0m\u001B[0mbuild\u001B[0m\u001B[0;34m(\u001B[0m\u001B[0mhp\u001B[0m\u001B[0;34m)\u001B[0m\u001B[0;34m\u001B[0m\u001B[0;34m\u001B[0m\u001B[0m\n\u001B[0m\u001B[1;32m    119\u001B[0m         \u001B[0mself\u001B[0m\u001B[0;34m.\u001B[0m\u001B[0moracle\u001B[0m\u001B[0;34m.\u001B[0m\u001B[0mupdate_space\u001B[0m\u001B[0;34m(\u001B[0m\u001B[0mhp\u001B[0m\u001B[0;34m)\u001B[0m\u001B[0;34m\u001B[0m\u001B[0;34m\u001B[0m\u001B[0m\n\u001B[1;32m    120\u001B[0m \u001B[0;34m\u001B[0m\u001B[0m\n",
      "\u001B[0;32m~/pyenvs/mint/lib/python3.9/site-packages/keras_tuner/engine/hypermodel.py\u001B[0m in \u001B[0;36m_build_wrapper\u001B[0;34m(self, hp, *args, **kwargs)\u001B[0m\n\u001B[1;32m     82\u001B[0m             \u001B[0;31m# to the search space.\u001B[0m\u001B[0;34m\u001B[0m\u001B[0;34m\u001B[0m\u001B[0;34m\u001B[0m\u001B[0m\n\u001B[1;32m     83\u001B[0m             \u001B[0mhp\u001B[0m \u001B[0;34m=\u001B[0m \u001B[0mhp\u001B[0m\u001B[0;34m.\u001B[0m\u001B[0mcopy\u001B[0m\u001B[0;34m(\u001B[0m\u001B[0;34m)\u001B[0m\u001B[0;34m\u001B[0m\u001B[0;34m\u001B[0m\u001B[0m\n\u001B[0;32m---> 84\u001B[0;31m         \u001B[0;32mreturn\u001B[0m \u001B[0mself\u001B[0m\u001B[0;34m.\u001B[0m\u001B[0m_build\u001B[0m\u001B[0;34m(\u001B[0m\u001B[0mhp\u001B[0m\u001B[0;34m,\u001B[0m \u001B[0;34m*\u001B[0m\u001B[0margs\u001B[0m\u001B[0;34m,\u001B[0m \u001B[0;34m**\u001B[0m\u001B[0mkwargs\u001B[0m\u001B[0;34m)\u001B[0m\u001B[0;34m\u001B[0m\u001B[0;34m\u001B[0m\u001B[0m\n\u001B[0m\u001B[1;32m     85\u001B[0m \u001B[0;34m\u001B[0m\u001B[0m\n\u001B[1;32m     86\u001B[0m \u001B[0;34m\u001B[0m\u001B[0m\n",
      "\u001B[0;32m~/pyenvs/mint/lib/python3.9/site-packages/keras_tuner/engine/hypermodel.py\u001B[0m in \u001B[0;36mbuild\u001B[0;34m(self, hp)\u001B[0m\n\u001B[1;32m    133\u001B[0m \u001B[0;34m\u001B[0m\u001B[0m\n\u001B[1;32m    134\u001B[0m                 \u001B[0;32mif\u001B[0m \u001B[0mi\u001B[0m \u001B[0;34m==\u001B[0m \u001B[0mself\u001B[0m\u001B[0;34m.\u001B[0m\u001B[0m_max_fail_streak\u001B[0m\u001B[0;34m:\u001B[0m\u001B[0;34m\u001B[0m\u001B[0;34m\u001B[0m\u001B[0m\n\u001B[0;32m--> 135\u001B[0;31m                     \u001B[0;32mraise\u001B[0m \u001B[0mRuntimeError\u001B[0m\u001B[0;34m(\u001B[0m\u001B[0;34m\"Too many failed attempts to build model.\"\u001B[0m\u001B[0;34m)\u001B[0m\u001B[0;34m\u001B[0m\u001B[0;34m\u001B[0m\u001B[0m\n\u001B[0m\u001B[1;32m    136\u001B[0m                 \u001B[0;32mcontinue\u001B[0m\u001B[0;34m\u001B[0m\u001B[0;34m\u001B[0m\u001B[0m\n\u001B[1;32m    137\u001B[0m \u001B[0;34m\u001B[0m\u001B[0m\n",
      "\u001B[0;31mRuntimeError\u001B[0m: Too many failed attempts to build model."
     ]
    }
   ],
   "source": [
    "tuner = kt.RandomSearch(\n",
    "    build_model_from_hp,\n",
    "    objective='val_loss',\n",
    "    max_trials=5\n",
    ")"
   ],
   "metadata": {
    "collapsed": false,
    "pycharm": {
     "name": "#%%\n"
    }
   }
  }
 ],
 "metadata": {
  "kernelspec": {
   "display_name": "Python 3",
   "language": "python",
   "name": "python3"
  },
  "language_info": {
   "codemirror_mode": {
    "name": "ipython",
    "version": 2
   },
   "file_extension": ".py",
   "mimetype": "text/x-python",
   "name": "python",
   "nbconvert_exporter": "python",
   "pygments_lexer": "ipython2",
   "version": "2.7.6"
  }
 },
 "nbformat": 4,
 "nbformat_minor": 0
}